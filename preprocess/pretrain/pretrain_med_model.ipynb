{
 "cells": [
  {
   "cell_type": "code",
   "execution_count": null,
   "id": "7cc4ec90-bd08-4b23-8e32-028788328817",
   "metadata": {},
   "outputs": [],
   "source": [
    "%config Completer.use_jedi = False"
   ]
  },
  {
   "cell_type": "code",
   "execution_count": null,
   "id": "d3e43225-0881-4344-8c92-882edf80c809",
   "metadata": {},
   "outputs": [],
   "source": [
    "from transformers import BertForMaskedLM, AutoTokenizer, LineByLineTextDataset, DataCollatorForLanguageModeling\n",
    "from transformers import Trainer, TrainingArguments\n",
    "import torch\n",
    "import random\n",
    "import pandas as pd\n",
    "import os"
   ]
  },
  {
   "cell_type": "code",
   "execution_count": null,
   "id": "de44893c-9135-4e00-b54f-d6c012563606",
   "metadata": {},
   "outputs": [],
   "source": [
    "# set seeds\n",
    "gpus = torch.cuda.device_count()\n",
    "seed = 2022\n",
    "random.seed(seed)\n",
    "torch.manual_seed(seed)\n",
    "if gpus > 0:\n",
    "    torch.cuda.manual_seed_all(seed)\n",
    "device = torch.device('cuda:0')"
   ]
  },
  {
   "cell_type": "code",
   "execution_count": null,
   "id": "2faf9b71-9734-4ca9-adf4-985c7361ac5d",
   "metadata": {},
   "outputs": [],
   "source": [
    "fin_bert_path = '../../tools/bert-base-finnish-uncased-v1/'\n",
    "train_pretrain_data_path = '../../data/pretrain_data/pretrain_text_train.txt'\n",
    "eval_pretrain_data_path = '../../data/pretrain_data/pretrain_text_eval.txt'"
   ]
  },
  {
   "cell_type": "code",
   "execution_count": null,
   "id": "40f41ad5-d072-4ee6-b3cc-fd3003e25a96",
   "metadata": {},
   "outputs": [],
   "source": [
    "tokenizer = AutoTokenizer.from_pretrained(fin_bert_path)\n",
    "data_collator = DataCollatorForLanguageModeling(tokenizer=tokenizer, mlm=True, mlm_probability=0.15)\n",
    "model = BertForMaskedLM.from_pretrained(fin_bert_path)\n",
    "if gpus > 1:\n",
    "    model = torch.nn.DataParallel(model)\n",
    "model = model.to(device)"
   ]
  },
  {
   "cell_type": "code",
   "execution_count": null,
   "id": "bd95be98-e89d-4881-af50-332ac7ff3e16",
   "metadata": {},
   "outputs": [],
   "source": [
    "train_set = LineByLineTextDataset(tokenizer=tokenizer, file_path=train_pretrain_data_path, block_size=128)\n",
    "val_set = LineByLineTextDataset(tokenizer=tokenizer, file_path=eval_pretrain_data_path, block_size=128)"
   ]
  },
  {
   "cell_type": "code",
   "execution_count": null,
   "id": "1e67b674-d43a-4601-83a2-11171121da0a",
   "metadata": {},
   "outputs": [],
   "source": [
    "training_args = TrainingArguments(output_dir='../../save_models/pretrain_weight/', learning_rate=2e-5, evaluation_strategy=\"steps\", logging_steps=20000, eval_steps=20000, overwrite_output_dir=True, num_train_epochs=2, per_device_train_batch_size=16, save_total_limit=1, save_strategy='no', load_best_model_at_end=True)"
   ]
  },
  {
   "cell_type": "code",
   "execution_count": null,
   "id": "4299351d-aa87-4d86-a5fc-dfaed7cf0760",
   "metadata": {},
   "outputs": [],
   "source": [
    "trainer = Trainer(model=model, args=training_args, data_collator=data_collator, train_dataset=train_set, eval_dataset=val_set)"
   ]
  },
  {
   "cell_type": "code",
   "execution_count": null,
   "id": "8dcea056-8225-4a3b-a412-e3d76c861079",
   "metadata": {},
   "outputs": [],
   "source": [
    "trainer.train()"
   ]
  },
  {
   "cell_type": "code",
   "execution_count": null,
   "id": "82e16e25-9c08-442a-9cdd-ed0b1310c94e",
   "metadata": {},
   "outputs": [],
   "source": [
    "10148"
   ]
  }
 ],
 "metadata": {
  "kernelspec": {
   "display_name": "Python 3.8 - AzureML",
   "language": "python",
   "name": "python38-azureml"
  },
  "language_info": {
   "codemirror_mode": {
    "name": "ipython",
    "version": 3
   },
   "file_extension": ".py",
   "mimetype": "text/x-python",
   "name": "python",
   "nbconvert_exporter": "python",
   "pygments_lexer": "ipython3",
   "version": "3.8.5"
  }
 },
 "nbformat": 4,
 "nbformat_minor": 5
}
