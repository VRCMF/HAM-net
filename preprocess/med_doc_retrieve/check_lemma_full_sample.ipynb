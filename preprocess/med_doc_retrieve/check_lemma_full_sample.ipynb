{
 "cells": [
  {
   "cell_type": "code",
   "execution_count": null,
   "id": "38b5e736-6adc-410e-b76b-acad872e6433",
   "metadata": {},
   "outputs": [],
   "source": [
    "%config Completer.use_jedi = False"
   ]
  },
  {
   "cell_type": "code",
   "execution_count": null,
   "id": "c6a578bb-4fd5-4799-8194-d625e3b92fae",
   "metadata": {},
   "outputs": [],
   "source": [
    "sets = 'KIR'\n",
    "lemma_path = '../../data/lemma_data/{}/full_sample.conllu'.format(sets)\n",
    "file_path = '../../data/processed_data/{}/full_sample.txt'.format(sets)"
   ]
  },
  {
   "cell_type": "code",
   "execution_count": null,
   "id": "6de0f753-2da0-42ec-9abf-5e1efe6e677d",
   "metadata": {},
   "outputs": [],
   "source": [
    "lemma_list = 0\n",
    "with open(lemma_path, 'r') as f:\n",
    "    for i in f.readlines():\n",
    "        if i.startswith('# text = '):\n",
    "            lemma_list+=1"
   ]
  },
  {
   "cell_type": "code",
   "execution_count": null,
   "id": "f216307e-840a-491d-a7c6-0dc98bf86a34",
   "metadata": {},
   "outputs": [],
   "source": [
    "lemma_list"
   ]
  },
  {
   "cell_type": "code",
   "execution_count": null,
   "id": "83c7ffb7-24b3-4218-ab67-53142756ce9b",
   "metadata": {},
   "outputs": [],
   "source": [
    "lemma_list = 0\n",
    "with open(lemma_path, 'r') as f:\n",
    "    for i in f.readlines():\n",
    "        if i.startswith('# text = '):\n",
    "            lemma_list+=1"
   ]
  }
 ],
 "metadata": {
  "kernelspec": {
   "display_name": "Python 3.8 - AzureML",
   "language": "python",
   "name": "python38-azureml"
  },
  "language_info": {
   "codemirror_mode": {
    "name": "ipython",
    "version": 3
   },
   "file_extension": ".py",
   "mimetype": "text/x-python",
   "name": "python",
   "nbconvert_exporter": "python",
   "pygments_lexer": "ipython3",
   "version": "3.8.5"
  }
 },
 "nbformat": 4,
 "nbformat_minor": 5
}
