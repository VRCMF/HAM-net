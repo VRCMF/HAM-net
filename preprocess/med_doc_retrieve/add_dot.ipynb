{
 "cells": [
  {
   "cell_type": "code",
   "execution_count": null,
   "id": "ae21908b-9714-4a9e-8bd6-f5cd0207f702",
   "metadata": {},
   "outputs": [],
   "source": [
    "input_file_path = '../data/processed_data/KIR/full_sample.txt'\n",
    "output_file_path = '../data/processed_data/KIR/full_sample1.txt'"
   ]
  },
  {
   "cell_type": "code",
   "execution_count": null,
   "id": "d0d14a0d-f83c-48b7-8b13-03c0218b777b",
   "metadata": {},
   "outputs": [],
   "source": [
    "dotted_str = \"\"\n",
    "with open(input_file_path, 'r') as f:\n",
    "    for i in f.readlines():\n",
    "        dotted_str += i\n",
    "        dotted_str += '.'\n",
    "        dotted_str += '\\n'\n",
    "    f.close()\n",
    "    \n",
    "with open(output_file_path, 'w+') as f:\n",
    "    f.write(dotted_str)"
   ]
  },
  {
   "cell_type": "code",
   "execution_count": null,
   "id": "606b0d6c-bafb-4328-8487-6040cc245c9d",
   "metadata": {},
   "outputs": [],
   "source": [
    "dotted_str = \"\"\n",
    "with open(input_file_path, 'r') as f:\n",
    "    for i in f.readlines():\n",
    "        if i!='.\\n':\n",
    "            dotted_str += i\n",
    "    f.close()\n",
    "    \n",
    "with open(input_file_path, 'w+') as f:\n",
    "    f.write(dotted_str)"
   ]
  },
  {
   "cell_type": "code",
   "execution_count": null,
   "id": "b08141ea-a4a0-4dcc-9cb1-69ab42d5d97d",
   "metadata": {},
   "outputs": [],
   "source": []
  }
 ],
 "metadata": {
  "kernelspec": {
   "display_name": "Python 3.8 - AzureML",
   "language": "python",
   "name": "python38-azureml"
  },
  "language_info": {
   "codemirror_mode": {
    "name": "ipython",
    "version": 3
   },
   "file_extension": ".py",
   "mimetype": "text/x-python",
   "name": "python",
   "nbconvert_exporter": "python",
   "pygments_lexer": "ipython3",
   "version": "3.8.5"
  }
 },
 "nbformat": 4,
 "nbformat_minor": 5
}
