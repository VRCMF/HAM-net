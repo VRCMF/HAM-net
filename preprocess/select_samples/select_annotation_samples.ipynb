{
 "cells": [
  {
   "cell_type": "code",
   "execution_count": null,
   "id": "8157ce89-cccf-41ca-8ea8-28c440694ae1",
   "metadata": {},
   "outputs": [],
   "source": [
    "%config Completer.use_jedi = False"
   ]
  },
  {
   "cell_type": "code",
   "execution_count": null,
   "id": "0115cfa7-0ded-4f30-b527-6165cf6bdb52",
   "metadata": {},
   "outputs": [],
   "source": [
    "import transformers\n",
    "from transformers import AutoModel, AutoTokenizer\n",
    "import pandas as pd"
   ]
  },
  {
   "cell_type": "code",
   "execution_count": null,
   "id": "d11929a8-c9da-437f-b460-d96c45c074c4",
   "metadata": {},
   "outputs": [],
   "source": [
    "import matplotlib.pyplot as plt\n",
    "import numpy as np"
   ]
  },
  {
   "cell_type": "code",
   "execution_count": null,
   "id": "835af2bf-6989-4971-bbf0-4c192b2a37a2",
   "metadata": {},
   "outputs": [],
   "source": [
    "from sklearn.metrics import davies_bouldin_score, normalized_mutual_info_score, silhouette_score\n",
    "from sklearn.decomposition import PCA\n",
    "import numpy as np\n",
    "from sklearn.feature_extraction.text import TfidfVectorizer\n",
    "from sklearn.cluster import KMeans, AgglomerativeClustering, SpectralClustering, BisectingKMeans\n",
    "from sklearn.decomposition import PCA\n",
    "from scipy.spatial.distance import euclidean\n",
    "from sentence_transformers import SentenceTransformer"
   ]
  },
  {
   "cell_type": "code",
   "execution_count": null,
   "id": "46ce9e9b-be37-4195-9c42-b41ec40e16fd",
   "metadata": {},
   "outputs": [],
   "source": [
    "sets = 'KIR'\n",
    "fin_bert_path = '../../tools/bert-base-finnish-uncased-v1/'\n",
    "input_text_path = '../../data/weak_data/{}/full_text.txt'.format(sets)"
   ]
  },
  {
   "cell_type": "code",
   "execution_count": null,
   "id": "d6d968df-ad86-4945-bc57-ffafc5b74fdd",
   "metadata": {},
   "outputs": [],
   "source": [
    "sent_tensor_list = []\n",
    "length_list = []\n",
    "sent_list = []\n",
    "with open(input_text_path, 'r') as f:\n",
    "    for line in f.readlines():\n",
    "        sent_list.append(line.strip())\n",
    "        #line_tensor = tokenizer.encode(line)\n",
    "        #sent_tensor_list.append(line_tensor)\n",
    "        #length_list.append(len(line_tensor))\n",
    "    f.close()"
   ]
  },
  {
   "cell_type": "code",
   "execution_count": null,
   "id": "f43bb73d-3f4c-4f61-b582-43e3bc01cb13",
   "metadata": {},
   "outputs": [],
   "source": [
    "model = SentenceTransformer('../../tools/sbert-uncased-finnish-paraphrase')\n",
    "tfidf = model.encode(sent_list)"
   ]
  },
  {
   "cell_type": "code",
   "execution_count": null,
   "id": "532bb22e-ada5-42eb-9977-27af250e31fb",
   "metadata": {},
   "outputs": [],
   "source": [
    "tfidf.shape"
   ]
  },
  {
   "cell_type": "code",
   "execution_count": null,
   "id": "979419d7-da88-40a1-a99b-7cdb24002471",
   "metadata": {},
   "outputs": [],
   "source": [
    "# tfidf_vect = TfidfVectorizer()\n",
    "# tfidf = tfidf_vect.fit_transform(sent_list)"
   ]
  },
  {
   "cell_type": "code",
   "execution_count": null,
   "id": "c762569c-2c06-4f04-a60f-2bced2e37596",
   "metadata": {},
   "outputs": [],
   "source": [
    "kmeans = KMeans(n_clusters=2).fit(tfidf)"
   ]
  },
  {
   "cell_type": "code",
   "execution_count": null,
   "id": "a144ca3e-0fba-4516-bbdc-708b85faf45d",
   "metadata": {},
   "outputs": [],
   "source": [
    "len(kmeans.labels_)"
   ]
  },
  {
   "cell_type": "code",
   "execution_count": null,
   "id": "025591bf-40a6-4f49-a79a-88ff84c3b6ff",
   "metadata": {},
   "outputs": [],
   "source": [
    "davies_bouldin_score(tfidf.toarray(), kmeans.labels_)"
   ]
  },
  {
   "cell_type": "code",
   "execution_count": null,
   "id": "8c66215a-160b-40f3-be4d-0d9f5c25c1e7",
   "metadata": {},
   "outputs": [],
   "source": [
    "silhouette_score(tfidf.toarray(), kmeans.labels_)"
   ]
  },
  {
   "cell_type": "code",
   "execution_count": null,
   "id": "61f03e92-0cf7-455a-9c53-91d7051d1ffa",
   "metadata": {},
   "outputs": [],
   "source": [
    "num_cluster = np.linspace(2, 10, 9)"
   ]
  },
  {
   "cell_type": "code",
   "execution_count": null,
   "id": "23cc5d26-7bf1-4c0d-bf88-292ad705513c",
   "metadata": {},
   "outputs": [],
   "source": [
    "d_score_list = []\n",
    "s_score_list = []\n",
    "for i in num_cluster:\n",
    "    kmeans = KMeans(n_clusters=int(i)).fit(tfidf)\n",
    "    d_score = davies_bouldin_score(tfidf.toarray(), kmeans.labels_)\n",
    "    s_score = silhouette_score(tfidf.toarray(), kmeans.labels_)\n",
    "    d_score_list.append(d_score)\n",
    "    s_score_list.append(s_score)"
   ]
  },
  {
   "cell_type": "code",
   "execution_count": null,
   "id": "2f31ef3d-be0b-492d-ace4-dfb3b484c982",
   "metadata": {},
   "outputs": [],
   "source": [
    "plt.plot(num_cluster, d_score_list, label='davies_bouldin_score')\n",
    "plt.plot(num_cluster, s_score_list, label='silhouette_score')\n",
    "plt.legend()\n",
    "plt.show()"
   ]
  },
  {
   "attachments": {},
   "cell_type": "markdown",
   "id": "5119788a-7328-4add-a984-e20e2a95081b",
   "metadata": {},
   "source": [
    "#### PCA"
   ]
  },
  {
   "cell_type": "code",
   "execution_count": null,
   "id": "0a86a7d8-4c69-4f74-91cc-d58346093166",
   "metadata": {},
   "outputs": [],
   "source": [
    "# calculate the length\n",
    "file_length_list = []\n",
    "med_spec_list = ['KIR', 'LAH', 'OPER', 'RTG', 'SAD']\n",
    "for med in med_spec_list:\n",
    "    file_path = '../../data/processed_data/{}/full_sample.txt'.format(med)\n",
    "    with open(file_path, 'r') as f:\n",
    "        sent_len = len(f.readlines())\n",
    "        file_length_list.append(sent_len)\n",
    "        f.close()"
   ]
  },
  {
   "cell_type": "code",
   "execution_count": null,
   "id": "2a460a1d-6aa1-4506-a3bf-93eedd1aacb1",
   "metadata": {},
   "outputs": [],
   "source": [
    "[i/sum(file_length_list)*1000 for i in file_length_list]\n",
    "for i in range(len(file_length_list)):\n",
    "    print('The num of {} is: {}; '.format(med_spec_list[i], int(file_length_list[i]/sum(file_length_list)*1000)))"
   ]
  },
  {
   "attachments": {},
   "cell_type": "markdown",
   "id": "61ad4d02-bb8c-4dd5-940b-0c0df92b9e78",
   "metadata": {},
   "source": [
    "##### PCA--> 200 --> better (Davies-Bouldin index --> lower score is better)"
   ]
  },
  {
   "cell_type": "code",
   "execution_count": null,
   "id": "7ba57e3d-783f-4e6b-b769-1b0f5a1a44bd",
   "metadata": {},
   "outputs": [],
   "source": [
    "pca = PCA(n_components=200)\n",
    "reduced_fea = pca.fit_transform(tfidf.toarray())"
   ]
  },
  {
   "cell_type": "code",
   "execution_count": null,
   "id": "2cf25582-9c48-413e-9c91-298045fce4a5",
   "metadata": {},
   "outputs": [],
   "source": [
    "d_score_list = []\n",
    "s_score_list = []\n",
    "for i in num_cluster:\n",
    "    kmeans = KMeans(n_clusters=int(i)).fit(reduced_fea)\n",
    "    d_score = davies_bouldin_score(reduced_fea, kmeans.labels_)\n",
    "    s_score = silhouette_score(reduced_fea, kmeans.labels_)\n",
    "    d_score_list.append(d_score)\n",
    "    s_score_list.append(s_score)\n",
    "plt.plot(num_cluster, d_score_list, label='davies_bouldin_score')\n",
    "plt.plot(num_cluster, s_score_list, label='silhouette_score')\n",
    "plt.legend()\n",
    "plt.show()"
   ]
  },
  {
   "attachments": {},
   "cell_type": "markdown",
   "id": "f57eddad-35c8-4c36-9909-e0d0ad4ab237",
   "metadata": {},
   "source": [
    "##### PCA--> 20"
   ]
  },
  {
   "cell_type": "code",
   "execution_count": null,
   "id": "aa7d1360-6534-4fe6-8d49-5ab11aaf8232",
   "metadata": {},
   "outputs": [],
   "source": [
    "pca = PCA(n_components=20)\n",
    "reduced_fea = pca.fit_transform(tfidf.toarray())"
   ]
  },
  {
   "cell_type": "code",
   "execution_count": null,
   "id": "441477e1-b931-4364-9c35-ba4c4705fccc",
   "metadata": {},
   "outputs": [],
   "source": [
    "d_score_list = []\n",
    "s_score_list = []\n",
    "for i in num_cluster:\n",
    "    kmeans = KMeans(n_clusters=int(i)).fit(reduced_fea)\n",
    "    d_score = davies_bouldin_score(reduced_fea, kmeans.labels_)\n",
    "    s_score = silhouette_score(reduced_fea, kmeans.labels_)\n",
    "    d_score_list.append(d_score)\n",
    "    s_score_list.append(s_score)\n",
    "plt.plot(num_cluster, d_score_list, label='davies_bouldin_score')\n",
    "plt.plot(num_cluster, s_score_list, label='silhouette_score')\n",
    "plt.legend()\n",
    "plt.show()"
   ]
  },
  {
   "attachments": {},
   "cell_type": "markdown",
   "id": "e71d4e8a-396c-4eff-a261-2c61fdfd402d",
   "metadata": {},
   "source": [
    "##### PCA--> 10"
   ]
  },
  {
   "cell_type": "code",
   "execution_count": null,
   "id": "4a5135b2-ffab-4323-bed4-b95979de225e",
   "metadata": {},
   "outputs": [],
   "source": [
    "def max_min_scaling(inputs):\n",
    "    return (inputs  - min(inputs)) /(max(inputs) - min(inputs))"
   ]
  },
  {
   "cell_type": "code",
   "execution_count": null,
   "id": "83b9f555-3ad6-47af-861a-c9fb741bd5f9",
   "metadata": {},
   "outputs": [],
   "source": [
    "from sklearn.decomposition import PCA\n",
    "\n",
    "pca = PCA(n_components=10)\n",
    "reduced_fea = pca.fit_transform(tfidf.toarray())"
   ]
  },
  {
   "cell_type": "code",
   "execution_count": null,
   "id": "f6462d99-d385-470f-8f89-081c436dc029",
   "metadata": {},
   "outputs": [],
   "source": [
    "d_score_list = []\n",
    "s_score_list = []\n",
    "for i in num_cluster:\n",
    "    kmeans = KMeans(n_clusters=int(i)).fit(reduced_fea)\n",
    "    d_score = davies_bouldin_score(reduced_fea, kmeans.labels_)\n",
    "    s_score = silhouette_score(reduced_fea, kmeans.labels_)\n",
    "    d_score_list.append(d_score)\n",
    "    s_score_list.append(s_score)\n",
    "plt.plot(num_cluster, d_score_list, label='davies_bouldin_score')\n",
    "plt.plot(num_cluster, s_score_list, label='silhouette_score')\n",
    "plt.legend()\n",
    "plt.show()"
   ]
  },
  {
   "cell_type": "code",
   "execution_count": null,
   "id": "1faaf291-b329-4116-a9f1-192177fb9779",
   "metadata": {},
   "outputs": [],
   "source": [
    "d = max_min_scaling(d_score_list)[-1]\n",
    "s = max_min_scaling(s_score_list)[-1]\n",
    "s/d"
   ]
  },
  {
   "cell_type": "code",
   "execution_count": null,
   "id": "568aa671-82de-4f71-8ab2-731d8962089a",
   "metadata": {},
   "outputs": [],
   "source": [
    "ds_score_list(max_min_scaling(s_score_list), max_min_scaling(d_score_list))"
   ]
  },
  {
   "attachments": {},
   "cell_type": "markdown",
   "id": "dc251be1-e210-4aa9-b921-ca51b8b7c244",
   "metadata": {},
   "source": [
    "##### PCA--> 5"
   ]
  },
  {
   "cell_type": "code",
   "execution_count": null,
   "id": "c4ff6c40-7938-4295-83be-576e51a32b42",
   "metadata": {},
   "outputs": [],
   "source": [
    "pca = PCA(n_components=5)\n",
    "reduced_fea = pca.fit_transform(tfidf.toarray())\n",
    "\n",
    "d_score_list = []\n",
    "s_score_list = []\n",
    "for i in num_cluster:\n",
    "    kmeans = KMeans(n_clusters=int(i)).fit(reduced_fea)\n",
    "    d_score = davies_bouldin_score(reduced_fea, kmeans.labels_)\n",
    "    s_score = silhouette_score(reduced_fea, kmeans.labels_)\n",
    "    d_score_list.append(d_score)\n",
    "    s_score_list.append(s_score)\n",
    "plt.plot(num_cluster, d_score_list, label='davies_bouldin_score')\n",
    "plt.plot(num_cluster, s_score_list, label='silhouette_score')\n",
    "plt.legend()\n",
    "plt.show()"
   ]
  },
  {
   "cell_type": "code",
   "execution_count": null,
   "id": "b7cd7449-460a-4f0c-a2fb-8f2ca81b2cee",
   "metadata": {},
   "outputs": [],
   "source": [
    "d = max_min_scaling(d_score_list)[-1]\n",
    "s = max_min_scaling(s_score_list)[-1]\n",
    "s/d"
   ]
  },
  {
   "attachments": {},
   "cell_type": "markdown",
   "id": "bbafe9b2-17dc-4daa-98d7-9abcc609fdc4",
   "metadata": {},
   "source": [
    "##### PCA--> 2"
   ]
  },
  {
   "cell_type": "code",
   "execution_count": null,
   "id": "19b90067-7ad9-4a8e-8dcb-8092173b5317",
   "metadata": {},
   "outputs": [],
   "source": [
    "pca = PCA(n_components=2)\n",
    "reduced_fea = pca.fit_transform(tfidf.toarray())\n",
    "\n",
    "d_score_list = []\n",
    "s_score_list = []\n",
    "for i in num_cluster:\n",
    "    kmeans = KMeans(n_clusters=int(i)).fit(reduced_fea)\n",
    "    d_score = davies_bouldin_score(reduced_fea, kmeans.labels_)\n",
    "    s_score = silhouette_score(reduced_fea, kmeans.labels_)\n",
    "    d_score_list.append(d_score)\n",
    "    s_score_list.append(s_score)\n",
    "plt.plot(num_cluster, d_score_list, label='davies_bouldin_score')\n",
    "plt.plot(num_cluster, s_score_list, label='silhouette_score')\n",
    "plt.legend()\n",
    "plt.show()"
   ]
  },
  {
   "cell_type": "code",
   "execution_count": null,
   "id": "f5b1a732-9d89-46d6-ab21-78084e40aff7",
   "metadata": {},
   "outputs": [],
   "source": [
    "d = max_min_scaling(d_score_list)[-1]\n",
    "s = max_min_scaling(s_score_list)[-1]\n",
    "s/d"
   ]
  },
  {
   "cell_type": "code",
   "execution_count": null,
   "id": "c27dc61f-89c4-42af-8560-069b821228c5",
   "metadata": {},
   "outputs": [],
   "source": [
    "ds_score_list(max_min_scaling(s_score_list), max_min_scaling(d_score_list))"
   ]
  },
  {
   "attachments": {},
   "cell_type": "markdown",
   "id": "4d69ef0e-b8f7-47f6-8d09-c31db475b237",
   "metadata": {},
   "source": [
    "##### BEST: PCA --> 10; K-means --> 10 "
   ]
  },
  {
   "cell_type": "code",
   "execution_count": null,
   "id": "54615462-7fa3-4555-825b-75a6ce037ae6",
   "metadata": {},
   "outputs": [],
   "source": [
    "pca = PCA(n_components=10)\n",
    "reduced_fea = pca.fit_transform(tfidf)\n",
    "\n",
    "kmeans = KMeans(n_clusters=10).fit(reduced_fea)"
   ]
  },
  {
   "cell_type": "code",
   "execution_count": null,
   "id": "ae34d8b9-c69a-4f96-b749-11ce4cf38f53",
   "metadata": {},
   "outputs": [],
   "source": [
    "len(kmeans.labels_)"
   ]
  },
  {
   "cell_type": "code",
   "execution_count": null,
   "id": "efc9dd10-bcf5-4a5a-a2ae-54de6ceda898",
   "metadata": {},
   "outputs": [],
   "source": [
    "# each cluster --> choose 21 samples\n",
    "int(214/10)"
   ]
  },
  {
   "cell_type": "code",
   "execution_count": null,
   "id": "c81f0c02-9a1b-4b95-941c-e4b96df1cf12",
   "metadata": {},
   "outputs": [],
   "source": [
    "sample_str = ''\n",
    "sample_list = []\n",
    "annotate_sent_list = []\n",
    "num_samples = 21\n",
    "num_clusters = 10\n",
    "for i in range(num_clusters):\n",
    "    cluster_idx = np.where(kmeans.labels_ == i)[0].tolist() \n",
    "    # cluster_idx = np.where(kmeans.labels_ == 0)[0].tolist() \n",
    "    # sample = np.random.choice(cluster_idx, 21) \n",
    "    sample = euclidean(cluster_idx, num_samples)\n",
    "    annotate_sent = []\n",
    "    for j in sample:\n",
    "        annotate_sent.append(sent_list[j])\n",
    "    sample_list += list(sample)\n",
    "    annotate_sent_list += list(annotate_sent) \n",
    "df = pd.DataFrame({'index': sample_list, 'sent': annotate_sent_list})"
   ]
  },
  {
   "cell_type": "code",
   "execution_count": null,
   "id": "4cc44d3b-c328-4621-8c1d-4e33a7fa599e",
   "metadata": {},
   "outputs": [],
   "source": [
    "df"
   ]
  },
  {
   "cell_type": "code",
   "execution_count": null,
   "id": "9f8b3972-39da-4541-bbfc-edd54d317c4c",
   "metadata": {},
   "outputs": [],
   "source": [
    "len(sent_list)"
   ]
  },
  {
   "cell_type": "code",
   "execution_count": null,
   "id": "31aafce8-e7af-459d-8054-029cc99dd72d",
   "metadata": {},
   "outputs": [],
   "source": [
    "len(list(set(sent_list)))"
   ]
  },
  {
   "cell_type": "code",
   "execution_count": null,
   "id": "78e5e343-368f-41bd-800c-24e84f80550b",
   "metadata": {},
   "outputs": [],
   "source": [
    "label = 0\n",
    "cluster_idx = np.where(kmeans.labels_ == 0)[0].tolist() \n",
    "first_tensor = reduced_fea[cluster_idx[label]]\n",
    "cluster_center = kmeans.cluster_centers_[label]\n",
    "euclidean(first_tensor, cluster_center)"
   ]
  },
  {
   "cell_type": "code",
   "execution_count": null,
   "id": "2f6e1b1e-9d5b-4b34-bdca-202e37d51632",
   "metadata": {},
   "outputs": [],
   "source": [
    "label = 0\n",
    "cluster_idx = np.where(kmeans.labels_ == label)[0].tolist() \n",
    "\n",
    "incluster_dist_list = []\n",
    "cluster_center = kmeans.cluster_centers_[label]\n",
    "for idx in cluster_idx:\n",
    "    point = reduced_fea[idx]\n",
    "    dist = euclidean(point, cluster_center)\n",
    "    incluster_dist_list.append(dist)"
   ]
  },
  {
   "cell_type": "code",
   "execution_count": null,
   "id": "ebfc6963-48b1-4b95-ac51-25be51551e73",
   "metadata": {},
   "outputs": [],
   "source": [
    "x = np.linspace(1, len(incluster_dist_list), len(incluster_dist_list))\n",
    "plt.plot(x, incluster_dist_list)\n",
    "plt.show()"
   ]
  },
  {
   "cell_type": "code",
   "execution_count": null,
   "id": "27ce5270-c127-470b-837c-be5c623260fd",
   "metadata": {},
   "outputs": [],
   "source": [
    "# normalize the distance\n",
    "normalizd_dist = np.array(incluster_dist_list)"
   ]
  },
  {
   "cell_type": "code",
   "execution_count": null,
   "id": "b5c647de-ee69-494a-80f8-8b99a254b4fe",
   "metadata": {},
   "outputs": [],
   "source": [
    "normalizd_dist = normalizd_dist/normalizd_dist.sum()"
   ]
  },
  {
   "cell_type": "code",
   "execution_count": null,
   "id": "a820bd5a-4747-4725-b6d7-87835639ea5c",
   "metadata": {},
   "outputs": [],
   "source": [
    "inverse_norm_dist = 1/normalizd_dist"
   ]
  },
  {
   "cell_type": "code",
   "execution_count": null,
   "id": "40973fd6-8ec9-4ab5-a3c5-1aeb512d0c8e",
   "metadata": {},
   "outputs": [],
   "source": [
    "P = inverse_norm_dist/inverse_norm_dist.sum()"
   ]
  },
  {
   "cell_type": "code",
   "execution_count": null,
   "id": "d6ce2d78-49e4-4c15-baf9-49142952c408",
   "metadata": {},
   "outputs": [],
   "source": [
    "sum(inverse_norm_dist/inverse_norm_dist.sum())"
   ]
  },
  {
   "cell_type": "code",
   "execution_count": null,
   "id": "fa902510-16fa-42ae-862b-79d47017f658",
   "metadata": {},
   "outputs": [],
   "source": [
    "selected_idx = np.random.choice(cluster_idx, 21, p=inverse_norm_dist/inverse_norm_dist.sum()) "
   ]
  },
  {
   "cell_type": "code",
   "execution_count": null,
   "id": "73dcf5d7-3b35-4a46-ac66-47423b02032c",
   "metadata": {},
   "outputs": [],
   "source": [
    "len(list(P))"
   ]
  },
  {
   "cell_type": "code",
   "execution_count": null,
   "id": "b7e30578-92e4-42c0-87db-5e9c5ad7e05d",
   "metadata": {},
   "outputs": [],
   "source": [
    "len(cluster_idx)"
   ]
  },
  {
   "cell_type": "code",
   "execution_count": null,
   "id": "271b1bc5-82e7-45a7-b42e-e529ecf3b0a1",
   "metadata": {},
   "outputs": [],
   "source": [
    "diff_idx = list(set(cluster_idx) - set(selected_idx))"
   ]
  },
  {
   "cell_type": "code",
   "execution_count": null,
   "id": "5e593082-df11-446b-8121-afe306cedf47",
   "metadata": {},
   "outputs": [],
   "source": [
    "len(cluster_idx)"
   ]
  },
  {
   "cell_type": "code",
   "execution_count": null,
   "id": "8868ee2d-c5ea-40fd-8502-123030fc3bed",
   "metadata": {},
   "outputs": [],
   "source": [
    "len(diff_idx)"
   ]
  },
  {
   "cell_type": "code",
   "execution_count": null,
   "id": "a40256c3-8754-4edd-a9d3-6d63f6590b41",
   "metadata": {},
   "outputs": [],
   "source": [
    "np.diff(cluster_idx, selected_idx)"
   ]
  },
  {
   "cell_type": "code",
   "execution_count": null,
   "id": "41001e25-f6f1-4271-b45b-89912f740999",
   "metadata": {},
   "outputs": [],
   "source": [
    "np.random.choice(cluster_idx, 21, p=normalizd_dist/normalizd_dist.sum()) "
   ]
  },
  {
   "cell_type": "code",
   "execution_count": null,
   "id": "d785167c-fa4e-4c74-9eb7-a910aa1aee74",
   "metadata": {},
   "outputs": [],
   "source": [
    "def cluster_sampling(cluster_idx, num_samples):\n",
    "    incluster_dist_list = []\n",
    "    cluster_center = kmeans.cluster_centers_[label]\n",
    "    for idx in cluster_idx:\n",
    "        point = reduced_fea[idx]\n",
    "        dist = euclidean(point, cluster_center)\n",
    "        incluster_dist_list.append(dist)\n",
    "    normalizd_dist = max_min_scaling(np.array(incluster_dist_list))\n",
    "    sampled_idx = np.random.choice(cluster_idx, 21, p=normalizd_dist/normalizd_dist.sum()) \n",
    "    \n",
    "    return sampled_idx"
   ]
  },
  {
   "cell_type": "code",
   "execution_count": null,
   "id": "4feacc35-f60b-46d0-b486-de683d5ded76",
   "metadata": {},
   "outputs": [],
   "source": [
    "len(cluster_idx)"
   ]
  },
  {
   "cell_type": "code",
   "execution_count": null,
   "id": "dcb0d1e9-bb71-449e-9aac-b00d38572840",
   "metadata": {},
   "outputs": [],
   "source": [
    "len(cluster_idx)"
   ]
  },
  {
   "cell_type": "code",
   "execution_count": null,
   "id": "e35b8b8a-bbaa-44b6-8b73-71a40c870fb6",
   "metadata": {},
   "outputs": [],
   "source": [
    "reduced_fea.shape"
   ]
  },
  {
   "cell_type": "code",
   "execution_count": null,
   "id": "c0e1440a-b0c0-4f00-b85e-f8b55cf439cc",
   "metadata": {},
   "outputs": [],
   "source": [
    "cluster_center = kmeans.cluster_centers_[1]\n",
    "euclidean(first_tensor, cluster_center)"
   ]
  },
  {
   "cell_type": "code",
   "execution_count": null,
   "id": "74c2dbdc-2ec4-40ab-b89e-27505a043830",
   "metadata": {},
   "outputs": [],
   "source": [
    "with open('../../data/processed_data/KIR/annotation.txt', 'w') as f:\n",
    "    f.write('\\n'.join(annotate_sent_list))\n",
    "    f.close()"
   ]
  },
  {
   "cell_type": "code",
   "execution_count": null,
   "id": "890e90ae-db66-4ab7-ba19-3b1729619d94",
   "metadata": {},
   "outputs": [],
   "source": [
    "df.to_csv('../../data/processed_data/KIR/annotation.csv', index=False)"
   ]
  },
  {
   "cell_type": "code",
   "execution_count": null,
   "id": "4b9616e1-a4bd-4c1a-af75-b2d10d3ca4a5",
   "metadata": {},
   "outputs": [],
   "source": [
    "cluster_idx = np.where(kmeans.labels_ == 0)[0].tolist() \n",
    "sample = np.random.choice(cluster_idx, 21) \n",
    "annotate_sent = []\n",
    "for j in sample:\n",
    "    annotate_sent.append(sent_list[j])\n",
    "df = pd.DataFrame({'index': sample, 'sent': annotate_sent})"
   ]
  },
  {
   "cell_type": "code",
   "execution_count": null,
   "id": "44e532e0-3e47-457d-9ffa-557a6f71ab19",
   "metadata": {},
   "outputs": [],
   "source": [
    "df"
   ]
  },
  {
   "attachments": {},
   "cell_type": "markdown",
   "id": "66768c13-222f-49ef-afef-b873f575e1d3",
   "metadata": {},
   "source": [
    "### run for all documents"
   ]
  },
  {
   "cell_type": "code",
   "execution_count": null,
   "id": "be2e31f2-3328-4611-b6a8-7c3bbe413739",
   "metadata": {},
   "outputs": [],
   "source": [
    "# model = SentenceTransformer('../../tools/sbert-uncased-finnish-paraphrase')\n",
    "# tfidf = model.encode(sent_list)"
   ]
  },
  {
   "cell_type": "code",
   "execution_count": null,
   "id": "0685b371-b0f2-4f99-b0b2-389b1808cf1d",
   "metadata": {},
   "outputs": [],
   "source": [
    "def max_min_scaling(inputs):\n",
    "    return (inputs  - min(inputs)) /(max(inputs) - min(inputs))"
   ]
  },
  {
   "cell_type": "code",
   "execution_count": null,
   "id": "9908f405-d6c5-4675-bcde-ef2fc5d96e60",
   "metadata": {},
   "outputs": [],
   "source": [
    "def select_pca_kmean(sets):\n",
    "    input_text_path = '../../data/weak_data/{}/full_text.txt'.format(sets)\n",
    "    model = SentenceTransformer('../../tools/sbert-uncased-finnish-paraphrase')\n",
    "    sent_tensor_list = []\n",
    "    length_list = []\n",
    "    sent_list = []\n",
    "    with open(input_text_path, 'r') as f:\n",
    "        for line in f.readlines():\n",
    "            sent_list.append(line.strip())\n",
    "        f.close()\n",
    "    sent_vec = model.encode(sent_list)\n",
    "    \n",
    "    return sent_vec"
   ]
  },
  {
   "cell_type": "code",
   "execution_count": null,
   "id": "e937879a-3a35-4478-be7b-fe74dd6b54d7",
   "metadata": {},
   "outputs": [],
   "source": [
    "def d_s_score_plot(tfidf, n_cluster):\n",
    "    num_cluster = np.linspace(2, 10, 9)\n",
    "    pca = PCA(n_components=n_cluster)\n",
    "    reduced_fea = pca.fit_transform(tfidf)\n",
    "    d_score_list = []\n",
    "    s_score_list = []\n",
    "    for i in num_cluster:\n",
    "        # SpectralClustering   AgglomerativeClustering BisectingKMeans\n",
    "        kmeans = AgglomerativeClustering(n_clusters=int(i)).fit(reduced_fea)\n",
    "        d_score = davies_bouldin_score(reduced_fea, kmeans.labels_)\n",
    "        s_score = silhouette_score(reduced_fea, kmeans.labels_)\n",
    "        d_score_list.append(d_score)\n",
    "        s_score_list.append(s_score)\n",
    "    # d = max_min_scaling(d_score_list)[-1]\n",
    "    # s = max_min_scaling(s_score_list)[-1]\n",
    "    # return s/d\n",
    "    plt.plot(num_cluster, d_score_list, label='davies_bouldin_score')\n",
    "    plt.plot(num_cluster, s_score_list, label='silhouette_score')\n",
    "    plt.legend()\n",
    "    plt.show()"
   ]
  },
  {
   "cell_type": "code",
   "execution_count": null,
   "id": "1404a933-918c-4dea-b0b6-4f5cc3b53532",
   "metadata": {},
   "outputs": [],
   "source": [
    "def ds_score_list(s_score_list, d_score_list):\n",
    "    score_list = []\n",
    "    for i in range(len(s_score_list)):\n",
    "        s = s_score_list[i]\n",
    "        d = d_score_list[i]\n",
    "        if d != 0:\n",
    "            score_list.append(s/d)\n",
    "    return score_list"
   ]
  },
  {
   "cell_type": "code",
   "execution_count": null,
   "id": "7dcca12a-e27e-43d5-9627-b1839dc81031",
   "metadata": {},
   "outputs": [],
   "source": [
    "def d_s_score(tfidf, n_cluster):\n",
    "    num_cluster = np.linspace(2, 10, 9)\n",
    "    pca = PCA(n_components=n_cluster)\n",
    "    reduced_fea = pca.fit_transform(tfidf)\n",
    "    d_score_list = []\n",
    "    s_score_list = []\n",
    "    for i in num_cluster:\n",
    "        kmeans = AgglomerativeClustering(n_clusters=int(i)).fit(reduced_fea)\n",
    "        d_score = davies_bouldin_score(reduced_fea, kmeans.labels_)\n",
    "        s_score = silhouette_score(reduced_fea, kmeans.labels_)\n",
    "        d_score_list.append(d_score)\n",
    "        s_score_list.append(s_score)\n",
    "    # d = max_min_scaling(d_score_list)\n",
    "    # s = max_min_scaling(s_score_list)\n",
    "    score_list = ds_score_list(max_min_scaling(s_score_list), max_min_scaling(d_score_list))\n",
    "    return score_list"
   ]
  },
  {
   "cell_type": "code",
   "execution_count": null,
   "id": "62bb570b-3f76-4793-bf0d-06ceceb3539b",
   "metadata": {},
   "outputs": [],
   "source": [
    "def d_s_score(tfidf, n_cluster):\n",
    "    num_cluster = np.linspace(2, 10, 9)\n",
    "    pca = PCA(n_components=n_cluster)\n",
    "    reduced_fea = pca.fit_transform(tfidf)\n",
    "    d_score_list = []\n",
    "    s_score_list = []\n",
    "    for i in num_cluster:\n",
    "        kmeans = AgglomerativeClustering(n_clusters=int(i)).fit(reduced_fea)\n",
    "        d_score = davies_bouldin_score(reduced_fea, kmeans.labels_)\n",
    "        #s_score = silhouette_score(reduced_fea, kmeans.labels_)\n",
    "        d_score_list.append(d_score)\n",
    "        #s_score_list.append(s_score)\n",
    "    # d = max_min_scaling(d_score_list)\n",
    "    # s = max_min_scaling(s_score_list)\n",
    "    # score_list = ds_score_list(max_min_scaling(s_score_list), max_min_scaling(d_score_list))\n",
    "    return d_score_list"
   ]
  },
  {
   "attachments": {},
   "cell_type": "markdown",
   "id": "b1108f9f-1066-4f8d-95fb-786ee66f0794",
   "metadata": {},
   "source": [
    "#### KIR"
   ]
  },
  {
   "cell_type": "code",
   "execution_count": null,
   "id": "631464b7-c56b-4c1f-bcfd-9f02c81d3f3f",
   "metadata": {},
   "outputs": [],
   "source": [
    "sets = 'KIR'\n",
    "n_cluster = 200\n",
    "score_list = d_s_score(select_pca_kmean(sets), n_cluster)\n",
    "print('Score of {} in {} clusters is: {}'.format(sets, n_cluster, score_list))\n",
    "\n",
    "n_cluster = 100\n",
    "score_list = d_s_score(select_pca_kmean(sets), n_cluster)\n",
    "print('Score of {} in {} clusters is: {}'.format(sets, n_cluster, score_list))\n",
    "\n",
    "n_cluster = 50\n",
    "score_list = d_s_score(select_pca_kmean(sets), n_cluster)\n",
    "print('Score of {} in {} clusters is: {}'.format(sets, n_cluster, score_list))\n",
    "\n",
    "n_cluster = 20\n",
    "score_list = d_s_score(select_pca_kmean(sets), n_cluster)\n",
    "print('Score of {} in {} clusters is: {}'.format(sets, n_cluster, score_list))\n",
    "\n",
    "n_cluster = 10\n",
    "score_list = d_s_score(select_pca_kmean(sets), n_cluster)\n",
    "print('Score of {} in {} clusters is: {}'.format(sets, n_cluster, score_list))\n",
    "\n",
    "n_cluster = 5\n",
    "score_list = d_s_score(select_pca_kmean(sets), n_cluster)\n",
    "print('Score of {} in {} clusters is: {}'.format(sets, n_cluster, score_list))\n",
    "\n",
    "n_cluster = 2\n",
    "score_list = d_s_score(select_pca_kmean(sets), n_cluster)\n",
    "print('Score of {} in {} clusters is: {}'.format(sets, n_cluster, score_list))"
   ]
  },
  {
   "attachments": {},
   "cell_type": "markdown",
   "id": "33484967-ed0e-4a50-9ae5-7f2de6d27ba5",
   "metadata": {},
   "source": [
    "#### PCA-->2; Kmeans-->10"
   ]
  },
  {
   "cell_type": "code",
   "execution_count": null,
   "id": "fddcf0c8-82a4-4a8c-ab55-b4fa076b1f97",
   "metadata": {},
   "outputs": [],
   "source": [
    "int(227/10)"
   ]
  },
  {
   "attachments": {},
   "cell_type": "markdown",
   "id": "29647256-30b6-4e57-934b-9713ca4f56a4",
   "metadata": {},
   "source": [
    "#### LAH"
   ]
  },
  {
   "cell_type": "code",
   "execution_count": null,
   "id": "05178124-f637-4d7d-9877-5ba365eb6ed4",
   "metadata": {},
   "outputs": [],
   "source": [
    "sets = 'LAH'\n",
    "n_cluster = 200\n",
    "score_list = d_s_score(select_pca_kmean(sets), n_cluster)\n",
    "print('Score of {} in {} clusters is: {}'.format(sets, n_cluster, score_list))\n",
    "\n",
    "n_cluster = 100\n",
    "score_list = d_s_score(select_pca_kmean(sets), n_cluster)\n",
    "print('Score of {} in {} clusters is: {}'.format(sets, n_cluster, score_list))\n",
    "\n",
    "n_cluster = 50\n",
    "score_list = d_s_score(select_pca_kmean(sets), n_cluster)\n",
    "print('Score of {} in {} clusters is: {}'.format(sets, n_cluster, score_list))\n",
    "\n",
    "n_cluster = 20\n",
    "score_list = d_s_score(select_pca_kmean(sets), n_cluster)\n",
    "print('Score of {} in {} clusters is: {}'.format(sets, n_cluster, score_list))\n",
    "\n",
    "n_cluster = 10\n",
    "score_list = d_s_score(select_pca_kmean(sets), n_cluster)\n",
    "print('Score of {} in {} clusters is: {}'.format(sets, n_cluster, score_list))\n",
    "\n",
    "n_cluster = 5\n",
    "score_list = d_s_score(select_pca_kmean(sets), n_cluster)\n",
    "print('Score of {} in {} clusters is: {}'.format(sets, n_cluster, score_list))\n",
    "\n",
    "n_cluster = 2\n",
    "score_list = d_s_score(select_pca_kmean(sets), n_cluster)\n",
    "print('Score of {} in {} clusters is: {}'.format(sets, n_cluster, score_list))"
   ]
  },
  {
   "attachments": {},
   "cell_type": "markdown",
   "id": "f4bd7991-2a08-495e-81be-a70b9912bd30",
   "metadata": {},
   "source": [
    "#### PCA-->10; Kmeans-->10"
   ]
  },
  {
   "cell_type": "code",
   "execution_count": null,
   "id": "e7b71def-38b9-4be7-acf5-3684c338b732",
   "metadata": {},
   "outputs": [],
   "source": [
    "int(203/10)"
   ]
  },
  {
   "attachments": {},
   "cell_type": "markdown",
   "id": "b9cbcac4-9fb5-41f7-a8e9-a4b92138cd5a",
   "metadata": {},
   "source": [
    "#### OPER"
   ]
  },
  {
   "cell_type": "code",
   "execution_count": null,
   "id": "c1b553ff-b848-4fda-bccc-ab04b521ee26",
   "metadata": {},
   "outputs": [],
   "source": [
    "sets = 'OPER'\n",
    "n_cluster = 200\n",
    "score_list = d_s_score(select_pca_kmean(sets), n_cluster)\n",
    "print('Score of {} in {} clusters is: {}'.format(sets, n_cluster, score_list))\n",
    "\n",
    "n_cluster = 100\n",
    "score_list = d_s_score(select_pca_kmean(sets), n_cluster)\n",
    "print('Score of {} in {} clusters is: {}'.format(sets, n_cluster, score_list))\n",
    "\n",
    "n_cluster = 50\n",
    "score_list = d_s_score(select_pca_kmean(sets), n_cluster)\n",
    "print('Score of {} in {} clusters is: {}'.format(sets, n_cluster, score_list))\n",
    "\n",
    "n_cluster = 20\n",
    "score_list = d_s_score(select_pca_kmean(sets), n_cluster)\n",
    "print('Score of {} in {} clusters is: {}'.format(sets, n_cluster, score_list))\n",
    "\n",
    "n_cluster = 10\n",
    "score_list = d_s_score(select_pca_kmean(sets), n_cluster)\n",
    "print('Score of {} in {} clusters is: {}'.format(sets, n_cluster, score_list))\n",
    "\n",
    "n_cluster = 5\n",
    "score_list = d_s_score(select_pca_kmean(sets), n_cluster)\n",
    "print('Score of {} in {} clusters is: {}'.format(sets, n_cluster, score_list))\n",
    "\n",
    "n_cluster = 2\n",
    "score_list = d_s_score(select_pca_kmean(sets), n_cluster)\n",
    "print('Score of {} in {} clusters is: {}'.format(sets, n_cluster, score_list))"
   ]
  },
  {
   "attachments": {},
   "cell_type": "markdown",
   "id": "6d82d743-94d9-49af-8599-c3d1652e531a",
   "metadata": {},
   "source": [
    "#### PCA-->5; Kmeans-->9"
   ]
  },
  {
   "cell_type": "code",
   "execution_count": null,
   "id": "6d5b7045-4307-4bf6-abdd-c331c9955650",
   "metadata": {},
   "outputs": [],
   "source": [
    "int(203/10)"
   ]
  },
  {
   "attachments": {},
   "cell_type": "markdown",
   "id": "9c210781-89b2-4a6e-9972-b6492abdedc3",
   "metadata": {},
   "source": [
    "#### RTG"
   ]
  },
  {
   "cell_type": "code",
   "execution_count": null,
   "id": "b6bc84ce-7ef8-4ffa-a12e-e38c1659d65e",
   "metadata": {},
   "outputs": [],
   "source": [
    "sets = 'RTG'\n",
    "n_cluster = 200\n",
    "score_list = d_s_score(select_pca_kmean(sets), n_cluster)\n",
    "print('Score of {} in {} clusters is: {}'.format(sets, n_cluster, score_list))\n",
    "\n",
    "n_cluster = 100\n",
    "score_list = d_s_score(select_pca_kmean(sets), n_cluster)\n",
    "print('Score of {} in {} clusters is: {}'.format(sets, n_cluster, score_list))\n",
    "\n",
    "n_cluster = 50\n",
    "score_list = d_s_score(select_pca_kmean(sets), n_cluster)\n",
    "print('Score of {} in {} clusters is: {}'.format(sets, n_cluster, score_list))\n",
    "\n",
    "n_cluster = 20\n",
    "score_list = d_s_score(select_pca_kmean(sets), n_cluster)\n",
    "print('Score of {} in {} clusters is: {}'.format(sets, n_cluster, score_list))\n",
    "\n",
    "n_cluster = 10\n",
    "score_list = d_s_score(select_pca_kmean(sets), n_cluster)\n",
    "print('Score of {} in {} clusters is: {}'.format(sets, n_cluster, score_list))\n",
    "\n",
    "n_cluster = 5\n",
    "score_list = d_s_score(select_pca_kmean(sets), n_cluster)\n",
    "print('Score of {} in {} clusters is: {}'.format(sets, n_cluster, score_list))\n",
    "\n",
    "n_cluster = 2\n",
    "score_list = d_s_score(select_pca_kmean(sets), n_cluster)\n",
    "print('Score of {} in {} clusters is: {}'.format(sets, n_cluster, score_list))"
   ]
  },
  {
   "attachments": {},
   "cell_type": "markdown",
   "id": "76eece90-e42a-4ace-8b5a-1f3ac2d73784",
   "metadata": {},
   "source": [
    "#### PCA-->5; Kmeans-->9"
   ]
  },
  {
   "cell_type": "code",
   "execution_count": null,
   "id": "ec91244c-46e7-4a0b-a92f-ffe81b538965",
   "metadata": {},
   "outputs": [],
   "source": [
    "int(163/10)"
   ]
  },
  {
   "attachments": {},
   "cell_type": "markdown",
   "id": "7ba8e05a-a210-4c64-91eb-f1830fc14532",
   "metadata": {},
   "source": [
    "#### SAD"
   ]
  },
  {
   "cell_type": "code",
   "execution_count": null,
   "id": "ba215939-06c1-48d4-999a-37c9c2376473",
   "metadata": {},
   "outputs": [],
   "source": [
    "sets = 'SAD'\n",
    "n_cluster = 200\n",
    "score_list = d_s_score(select_pca_kmean(sets), n_cluster)\n",
    "print('Score of {} in {} clusters is: {}'.format(sets, n_cluster, score_list))\n",
    "\n",
    "n_cluster = 100\n",
    "score_list = d_s_score(select_pca_kmean(sets), n_cluster)\n",
    "print('Score of {} in {} clusters is: {}'.format(sets, n_cluster, score_list))\n",
    "\n",
    "n_cluster = 50\n",
    "score_list = d_s_score(select_pca_kmean(sets), n_cluster)\n",
    "print('Score of {} in {} clusters is: {}'.format(sets, n_cluster, score_list))\n",
    "\n",
    "n_cluster = 20\n",
    "score_list = d_s_score(select_pca_kmean(sets), n_cluster)\n",
    "print('Score of {} in {} clusters is: {}'.format(sets, n_cluster, score_list))\n",
    "\n",
    "n_cluster = 10\n",
    "score_list = d_s_score(select_pca_kmean(sets), n_cluster)\n",
    "print('Score of {} in {} clusters is: {}'.format(sets, n_cluster, score_list))\n",
    "\n",
    "n_cluster = 5\n",
    "score_list = d_s_score(select_pca_kmean(sets), n_cluster)\n",
    "print('Score of {} in {} clusters is: {}'.format(sets, n_cluster, score_list))\n",
    "\n",
    "n_cluster = 2\n",
    "score_list = d_s_score(select_pca_kmean(sets), n_cluster)\n",
    "print('Score of {} in {} clusters is: {}'.format(sets, n_cluster, score_list))"
   ]
  },
  {
   "attachments": {},
   "cell_type": "markdown",
   "id": "e3e950bb-2073-4feb-bb51-3381228c7e9c",
   "metadata": {},
   "source": [
    "#### PCA-->5; Kmeans-->10"
   ]
  },
  {
   "cell_type": "code",
   "execution_count": null,
   "id": "4c9ba001-e8b2-4542-9e91-2f6c0fd54113",
   "metadata": {},
   "outputs": [],
   "source": [
    "int(204/10)"
   ]
  },
  {
   "cell_type": "code",
   "execution_count": null,
   "id": "dde6faf0-4bbb-41c6-8e48-0ca328555661",
   "metadata": {},
   "outputs": [],
   "source": []
  }
 ],
 "metadata": {
  "kernelspec": {
   "display_name": "Python 3 (ipykernel)",
   "language": "python",
   "name": "python3"
  },
  "language_info": {
   "codemirror_mode": {
    "name": "ipython",
    "version": 3
   },
   "file_extension": ".py",
   "mimetype": "text/x-python",
   "name": "python",
   "nbconvert_exporter": "python",
   "pygments_lexer": "ipython3",
   "version": "3.8.5"
  }
 },
 "nbformat": 4,
 "nbformat_minor": 5
}
