{
 "cells": [
  {
   "cell_type": "code",
   "execution_count": null,
   "id": "a83269be-8e12-4dd0-8184-24227f82e276",
   "metadata": {},
   "outputs": [],
   "source": [
    "%config Completer.use_jedi = False"
   ]
  },
  {
   "cell_type": "code",
   "execution_count": null,
   "id": "e9084ced-287a-426e-92cc-43e788397a82",
   "metadata": {},
   "outputs": [],
   "source": [
    "import matplotlib.pyplot as plt\n",
    "import numpy as np\n",
    "import pandas as pd"
   ]
  },
  {
   "cell_type": "code",
   "execution_count": null,
   "id": "980d5067-76f0-42d0-998d-2e7ad046e5a6",
   "metadata": {},
   "outputs": [],
   "source": [
    "#sets_list = ['KIR', 'LAH', 'OPER', 'RTG', 'SAD']\n",
    "sets = 'KIR'"
   ]
  },
  {
   "cell_type": "code",
   "execution_count": null,
   "id": "fee7e58d-c071-43ea-aeee-61272cfac246",
   "metadata": {},
   "outputs": [],
   "source": [
    "def plot_samples_in_cluster(sets, cluster_idx):\n",
    "    anno_prob = '../../data/processed_data/{}/annotation_prob.csv'.format(sets)\n",
    "    df = pd.read_csv(anno_prob)\n",
    "    dataset_list = []\n",
    "    dataset_idx_list = []\n",
    "    for idx, row in df.iterrows():\n",
    "        prob = row['prob']\n",
    "        index = row['index']\n",
    "        float_prob = []\n",
    "        int_index = []\n",
    "        # take probability\n",
    "        for i in prob.split(';'):\n",
    "            float_prob.append(float(i))\n",
    "        # take index\n",
    "        for j in index.split(';'):\n",
    "            int_index.append(int(j))\n",
    "        dataset_list.append(float_prob)\n",
    "        dataset_idx_list.append(int_index)\n",
    "\n",
    "    # for cluster\n",
    "    #cluster_idx = 0\n",
    "    dataset_i = [(dataset_list[cluster_idx][i], dataset_idx_list[cluster_idx][i]) for i in range(len(dataset_list[cluster_idx]))]\n",
    "    sorted_dataset_i = sorted(dataset_i)\n",
    "    # index of annotated samples for whole dataset\n",
    "    anno = '../../data/processed_data/{}/annotation.csv'.format(sets)\n",
    "    anno_idx = pd.read_csv(anno)['index'].tolist()\n",
    "    # index of annotated samples for the first cluster\n",
    "    incluster_sampled_idx = [(idx, val[0]) for idx, val in enumerate(sorted_dataset_i) if sorted_dataset_i[idx][1] in anno_idx]\n",
    "    x = list(range(len(sorted_dataset_i)))\n",
    "    \n",
    "    plt.plot(x, [i[0] for i in sorted_dataset_i], label='cluster:{}'.format(cluster_idx+1), color='b')\n",
    "    plt.scatter([i[0] for i in incluster_sampled_idx], [i[1] for i in incluster_sampled_idx], marker='x', color='r')\n",
    "    # plt.legend()\n",
    "    plt.savefig('../../data/processed_data/{}/annotation_cluster_{}.pdf'.format(sets, cluster_idx))\n",
    "    plt.show()"
   ]
  },
  {
   "cell_type": "code",
   "execution_count": null,
   "id": "5a956118-9cb2-4a0a-bdec-c1467ad2b6bf",
   "metadata": {},
   "outputs": [],
   "source": [
    "sets = 'KIR'\n",
    "#cluster_idx = list(range(10))\n",
    "for cluster_idx in range(9):\n",
    "    plot_samples_in_cluster(sets, cluster_idx)"
   ]
  },
  {
   "cell_type": "code",
   "execution_count": null,
   "id": "b8a3ad8a-91c6-422e-855c-da6371e45bda",
   "metadata": {},
   "outputs": [],
   "source": [
    "sets = 'LAH'\n",
    "#cluster_idx = list(range(10))\n",
    "for cluster_idx in range(10):\n",
    "    plot_samples_in_cluster(sets, cluster_idx)"
   ]
  },
  {
   "cell_type": "code",
   "execution_count": null,
   "id": "2cf89f49-ba1f-4c9f-b63e-dbbdbcef0293",
   "metadata": {},
   "outputs": [],
   "source": [
    "sets = 'OPER'\n",
    "#cluster_idx = list(range(10))\n",
    "for cluster_idx in range(9):\n",
    "    plot_samples_in_cluster(sets, cluster_idx)"
   ]
  },
  {
   "cell_type": "code",
   "execution_count": null,
   "id": "4eceef52-3231-4283-bdff-3bd39c0ef865",
   "metadata": {},
   "outputs": [],
   "source": [
    "sets = 'RTG'\n",
    "#cluster_idx = list(range(10))\n",
    "for cluster_idx in range(9):\n",
    "    plot_samples_in_cluster(sets, cluster_idx)"
   ]
  },
  {
   "cell_type": "code",
   "execution_count": null,
   "id": "dd10ee45-38e6-440c-8b02-ad32db9cc4a8",
   "metadata": {},
   "outputs": [],
   "source": [
    "sets = 'SAD'\n",
    "#cluster_idx = list(range(10))\n",
    "for cluster_idx in range(8):\n",
    "    plot_samples_in_cluster(sets, cluster_idx)"
   ]
  },
  {
   "cell_type": "code",
   "execution_count": null,
   "id": "5be3fa05-b41f-4fa6-9fcd-3f1e60782704",
   "metadata": {},
   "outputs": [],
   "source": [
    "cluster_idx = 0\n",
    "dataset_i = [(dataset_list[cluster_idx][i], dataset_idx_list[cluster_idx][i]) for i in range(len(dataset_list[cluster_idx]))]\n",
    "sorted_dataset_i = sorted(dataset_i)\n",
    "# index of annotated samples for whole dataset\n",
    "anno = '../../data/processed_data/{}/annotation.csv'.format(sets)\n",
    "anno_idx = pd.read_csv(anno)['index'].tolist()\n",
    "# index of annotated samples for the first cluster\n",
    "incluster_sampled_idx = [(idx, val[0]) for idx, val in enumerate(sorted_dataset_i) if sorted_dataset_i[idx][1] in anno_idx]\n",
    "x = list(range(len(sorted_dataset_i)))"
   ]
  },
  {
   "cell_type": "code",
   "execution_count": null,
   "id": "fb6774b2-501d-4e7c-b698-b693fb9c506b",
   "metadata": {},
   "outputs": [],
   "source": [
    "plt.plot(x, [i[0] for i in sorted_dataset_i], label='cluster:{}'.format(0), color='b')\n",
    "plt.scatter([i[0] for i in incluster_sampled_idx], [i[1] for i in incluster_sampled_idx], marker='x', color='r')\n",
    "plt.legend()\n",
    "plt.show()"
   ]
  },
  {
   "cell_type": "code",
   "execution_count": null,
   "id": "7eda9b6f-83f4-496f-b0ac-5dbf48a302e4",
   "metadata": {},
   "outputs": [],
   "source": [
    "# for i in range(len(dataset_list)):\n",
    "#     plt.plot(sorted(dataset_list[i]), label='cluster:{}'.format(i))\n",
    "#     plt.legend()\n",
    "# plt.show()"
   ]
  },
  {
   "cell_type": "code",
   "execution_count": null,
   "id": "da71cf8e-e34d-4931-ba67-8142e86d7dc5",
   "metadata": {},
   "outputs": [],
   "source": [
    "for i in range(len(dataset_list)):\n",
    "    print('The variation of cluster:{} is {}'.format(i, np.var(dataset_list[i])))"
   ]
  },
  {
   "cell_type": "code",
   "execution_count": null,
   "id": "47499239-d52f-44e1-8de1-393554a62b4d",
   "metadata": {},
   "outputs": [],
   "source": []
  }
 ],
 "metadata": {
  "kernelspec": {
   "display_name": "Python 3.8 - AzureML",
   "language": "python",
   "name": "python38-azureml"
  },
  "language_info": {
   "codemirror_mode": {
    "name": "ipython",
    "version": 3
   },
   "file_extension": ".py",
   "mimetype": "text/x-python",
   "name": "python",
   "nbconvert_exporter": "python",
   "pygments_lexer": "ipython3",
   "version": "3.8.5"
  }
 },
 "nbformat": 4,
 "nbformat_minor": 5
}
