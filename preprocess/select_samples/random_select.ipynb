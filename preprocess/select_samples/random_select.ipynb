{
 "cells": [
  {
   "cell_type": "code",
   "execution_count": null,
   "id": "f4007341-972e-48f1-8a25-59067ff80a97",
   "metadata": {},
   "outputs": [],
   "source": [
    "%config Completer.use_jedi = False"
   ]
  },
  {
   "cell_type": "code",
   "execution_count": null,
   "id": "29dff5f9-acb8-44f9-b376-1eeb42962100",
   "metadata": {},
   "outputs": [],
   "source": [
    "import pandas as pd\n",
    "import matplotlib.pyplot as plt\n",
    "import numpy as np\n",
    "from sklearn.metrics import davies_bouldin_score, normalized_mutual_info_score, silhouette_score\n",
    "from sklearn.decomposition import PCA\n",
    "import numpy as np\n",
    "from sklearn.feature_extraction.text import TfidfVectorizer\n",
    "from sklearn.cluster import KMeans\n",
    "from sklearn.decomposition import PCA\n",
    "from scipy.spatial.distance import euclidean\n",
    "from sentence_transformers import SentenceTransformer"
   ]
  },
  {
   "cell_type": "code",
   "execution_count": null,
   "id": "ed3b1734-c0d6-4085-b95c-585072f21e3a",
   "metadata": {},
   "outputs": [],
   "source": [
    "def gen_sent_list(sets, num_samples):\n",
    "    input_text_path = '../../data/weak_data/{}/full_text.txt'.format(sets)\n",
    "    input_label_path = '../../data/weak_data/{}/label.txt'.format(sets)\n",
    "    #model = SentenceTransformer('../../tools/sbert-uncased-finnish-paraphrase')\n",
    "    sent_list = []\n",
    "    with open(input_text_path, 'r') as f:\n",
    "        for line in f.readlines():\n",
    "            sent_list.append(line.strip())\n",
    "        f.close()\n",
    "    #sent_list = list(set(sent_list))\n",
    "    \n",
    "    label_list = []\n",
    "    with open(input_label_path, 'r') as f:\n",
    "        for line in f.readlines():\n",
    "            label_list.append(line.strip())\n",
    "        f.close()\n",
    "    \n",
    "    assert len(label_list) == len(sent_list)\n",
    "    \n",
    "    comb_idx_sent_list = []\n",
    "    for i in range(len(sent_list)):\n",
    "        item = (i, sent_list[i], label_list[i])\n",
    "        comb_idx_sent_list.append(item)\n",
    "    \n",
    "    pos_list =  np.random.choice(list(range(len(comb_idx_sent_list))), num_samples)\n",
    "    \n",
    "    random_select_idx_sent_label = [comb_idx_sent_list[i] for i in pos_list]#np.random.choice(comb_idx_sent_list, num_samples)\n",
    "    \n",
    "    select_idx = [item[0] for item in random_select_idx_sent_label]\n",
    "    \n",
    "    select_sent = [item[1] for item in random_select_idx_sent_label]\n",
    "    \n",
    "    select_label = [item[2] for item in random_select_idx_sent_label]\n",
    "    \n",
    "    df = pd.DataFrame({'index': select_idx, 'sent': select_sent})\n",
    "    df.to_csv('../../data/weak_data/{}/annotation_random_sent.csv'.format(sets), index=False)\n",
    "    \n",
    "    df = pd.DataFrame({'index': select_idx, 'label': select_label})\n",
    "    df.to_csv('../../data/weak_data/{}/annotation_random_label.csv'.format(sets), index=False)\n",
    "    \n",
    "    #selected_label\n",
    "    \n",
    "    \n",
    "    #return random_select_sent"
   ]
  },
  {
   "cell_type": "code",
   "execution_count": null,
   "id": "719cda5e-76cf-471c-8b18-8d62c408153d",
   "metadata": {},
   "outputs": [],
   "source": [
    "# KIR, LAH, OPER, RTG, SAD\n",
    "# 225., 200., 198., 162., 200.\n",
    "sets = 'KIR'\n",
    "num_samples = 225\n",
    "gen_sent_list(sets, num_samples)"
   ]
  },
  {
   "cell_type": "code",
   "execution_count": null,
   "id": "c2985b75-54e4-4f97-9b36-e1c7de314688",
   "metadata": {},
   "outputs": [],
   "source": [
    "sets = 'LAH'\n",
    "num_samples = 200\n",
    "gen_sent_list(sets, num_samples)"
   ]
  },
  {
   "cell_type": "code",
   "execution_count": null,
   "id": "c2acc77d-9876-4238-b19a-cd45b171e3eb",
   "metadata": {},
   "outputs": [],
   "source": [
    "sets = 'OPER'\n",
    "num_samples = 198\n",
    "gen_sent_list(sets, num_samples)"
   ]
  },
  {
   "cell_type": "code",
   "execution_count": null,
   "id": "f8517a12-c23c-4f26-92bd-018f716e4096",
   "metadata": {},
   "outputs": [],
   "source": [
    "sets = 'RTG'\n",
    "num_samples = 162\n",
    "gen_sent_list(sets, num_samples)"
   ]
  },
  {
   "cell_type": "code",
   "execution_count": null,
   "id": "f4881334-7b8d-4a35-af37-3595d950858f",
   "metadata": {},
   "outputs": [],
   "source": [
    "sets = 'SAD'\n",
    "num_samples = 200\n",
    "gen_sent_list(sets, num_samples)"
   ]
  },
  {
   "cell_type": "code",
   "execution_count": null,
   "id": "a5b65b06-95d6-47f2-89d8-091296f53d55",
   "metadata": {},
   "outputs": [],
   "source": []
  }
 ],
 "metadata": {
  "kernelspec": {
   "display_name": "Python 3.8 - AzureML",
   "language": "python",
   "name": "python38-azureml"
  },
  "language_info": {
   "codemirror_mode": {
    "name": "ipython",
    "version": 3
   },
   "file_extension": ".py",
   "mimetype": "text/x-python",
   "name": "python",
   "nbconvert_exporter": "python",
   "pygments_lexer": "ipython3",
   "version": "3.8.5"
  }
 },
 "nbformat": 4,
 "nbformat_minor": 5
}
