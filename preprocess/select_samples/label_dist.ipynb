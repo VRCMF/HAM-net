{
 "cells": [
  {
   "cell_type": "code",
   "execution_count": null,
   "id": "a1238d69-69d6-45a7-9a56-de7a3e6e4167",
   "metadata": {},
   "outputs": [],
   "source": [
    "from collections import Counter"
   ]
  },
  {
   "cell_type": "code",
   "execution_count": null,
   "id": "edc71f80-27a7-4876-93d3-1e9fdda627fe",
   "metadata": {},
   "outputs": [],
   "source": [
    "sets_list = ['KIR', 'SAD', 'RTG', 'OPER', 'LAH']\n",
    "full_list = []\n",
    "for sets in sets_list:\n",
    "    label_path = '../data/weak_data/{}/label.txt'.format(sets)\n",
    "    label_list = []\n",
    "    with open(label_path, 'r') as f:\n",
    "        for i in f.readlines():\n",
    "            label_list += i.strip().split(' ')\n",
    "        f.close()\n",
    "    full_list.append(label_list)"
   ]
  },
  {
   "cell_type": "code",
   "execution_count": null,
   "id": "194e6908-7459-42ee-9cb4-b453196b9e18",
   "metadata": {},
   "outputs": [],
   "source": [
    "for i in range(len(full_list)):\n",
    "    print(Counter(full_list[i]))\n",
    "    print('\\n')"
   ]
  },
  {
   "cell_type": "code",
   "execution_count": null,
   "id": "329882c3-98e9-424a-8934-9825bfea885a",
   "metadata": {},
   "outputs": [],
   "source": [
    "from collections import Counter\n",
    "\n",
    "sets_list = ['KIR', 'SAD', 'RTG', 'OPER', 'LAH']\n",
    "full_list = []\n",
    "for sets in sets_list:\n",
    "    label_path = '../data/weak_data/{}/label.txt'.format(sets)\n",
    "    #label_list = []\n",
    "    with open(label_path, 'r') as f:\n",
    "        for i in f.readlines():\n",
    "            full_list += i.strip().split(' ')\n",
    "        f.close()\n",
    "    #full_list.append(label_list)"
   ]
  },
  {
   "cell_type": "code",
   "execution_count": null,
   "id": "a3f76471-0f9c-41ab-8725-2b10c0065770",
   "metadata": {},
   "outputs": [],
   "source": [
    "Counter(full_list)"
   ]
  },
  {
   "cell_type": "code",
   "execution_count": null,
   "id": "bacb4e62-34b7-4491-a3d0-8932b89baab7",
   "metadata": {},
   "outputs": [],
   "source": []
  }
 ],
 "metadata": {
  "kernelspec": {
   "display_name": "Python 3.8 - AzureML",
   "language": "python",
   "name": "python38-azureml"
  },
  "language_info": {
   "codemirror_mode": {
    "name": "ipython",
    "version": 3
   },
   "file_extension": ".py",
   "mimetype": "text/x-python",
   "name": "python",
   "nbconvert_exporter": "python",
   "pygments_lexer": "ipython3",
   "version": "3.8.5"
  }
 },
 "nbformat": 4,
 "nbformat_minor": 5
}
