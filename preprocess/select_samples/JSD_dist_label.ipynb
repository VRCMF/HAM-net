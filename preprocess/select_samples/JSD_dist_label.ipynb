{
 "cells": [
  {
   "cell_type": "code",
   "execution_count": null,
   "id": "dd049053-9282-47ba-94f4-d6d9e34f4738",
   "metadata": {},
   "outputs": [],
   "source": [
    "%config Completer.use_jedi = False"
   ]
  },
  {
   "cell_type": "code",
   "execution_count": null,
   "id": "f30e2148-a810-4a45-94d0-e6cb2b3df993",
   "metadata": {},
   "outputs": [],
   "source": [
    "from scipy import stats\n",
    "from scipy.stats import norm\n",
    "import numpy as np\n",
    "import pandas as pd\n",
    "from collections import Counter"
   ]
  },
  {
   "cell_type": "code",
   "execution_count": null,
   "id": "aeb46ed0-34a4-4ab9-8e53-d7e03cbdbf45",
   "metadata": {},
   "outputs": [],
   "source": [
    "# JS divergence\n",
    "def KL_div(p_probs, q_probs):    \n",
    "    KL_div = p_probs * np.log(p_probs / q_probs)\n",
    "    return np.sum(KL_div)\n",
    "\n",
    "def JS_Div(p, q):\n",
    "    p = np.asarray(p)\n",
    "    q = np.asarray(q)\n",
    "    # normalize\n",
    "    p = p/p.sum()\n",
    "    q = q/q.sum()\n",
    "    m = (p + q) / 2\n",
    "    return (KL_div(p, m) + KL_div(q, m)) / 2"
   ]
  },
  {
   "cell_type": "code",
   "execution_count": null,
   "id": "2a53f4d5-33e7-45c5-8280-ad4cab22ef57",
   "metadata": {},
   "outputs": [],
   "source": [
    "def num_label_random(sets):\n",
    "    df = pd.read_csv('../../data/weak_data/{}/annotation_random_label.csv'.format(sets))\n",
    "    label_list = []\n",
    "    for idx, row in df.iterrows():\n",
    "        label_list += row['label'].split(' ')\n",
    "    count_label = dict(Counter(label_list))\n",
    "    return count_label"
   ]
  },
  {
   "cell_type": "code",
   "execution_count": null,
   "id": "0d00677a-71ba-4724-b4ce-424f437db524",
   "metadata": {},
   "outputs": [],
   "source": [
    "def num_label_cluster(sets):\n",
    "    df = pd.read_csv('../../data/weak_data/{}/Excel_anno.csv'.format(sets))\n",
    "    label_list = []\n",
    "    for idx, row in df.iterrows():\n",
    "        if type(row['Label']) == type('a'):\n",
    "            label_list.append(row['Label'])#.split(' ')\n",
    "    count_label = dict(Counter(label_list))\n",
    "    return count_label"
   ]
  },
  {
   "cell_type": "code",
   "execution_count": null,
   "id": "1a998d45-564c-4eea-8f72-47e0c7385dae",
   "metadata": {},
   "outputs": [],
   "source": [
    "def num_label_full(sets):\n",
    "    label_list = []\n",
    "    with open('../../data/weak_data/{}/label.txt'.format(sets), 'r') as f:\n",
    "        for line in f.readlines():\n",
    "            label_list += line.strip().split(' ')\n",
    "        f.close()\n",
    "    count_label = dict(Counter(label_list))\n",
    "    return count_label"
   ]
  },
  {
   "cell_type": "code",
   "execution_count": null,
   "id": "b5a9d000-28dc-42e9-b480-37c2598c2e19",
   "metadata": {},
   "outputs": [],
   "source": [
    "def retrieve_val(label_list, counter):\n",
    "    num_list = []\n",
    "    for i in label_list:\n",
    "        if i in counter.keys():\n",
    "            num_list.append(counter[i])\n",
    "        else:\n",
    "            num_list.append(1e-11)\n",
    "            \n",
    "    return num_list"
   ]
  },
  {
   "cell_type": "code",
   "execution_count": null,
   "id": "1e2b9cc5-ede3-4263-839f-de75b6e6a342",
   "metadata": {},
   "outputs": [],
   "source": [
    "def gen_random_cluster_full_list(sets):\n",
    "    random_counter = num_label_random(sets)\n",
    "    cluster_counter = num_label_cluster(sets)\n",
    "    full_counter = num_label_full(sets)\n",
    "    \n",
    "    full_med_label = list(full_counter.keys())\n",
    "    \n",
    "    rdm = retrieve_val(full_med_label, random_counter)\n",
    "    clr = retrieve_val(full_med_label, cluster_counter)\n",
    "    ful = retrieve_val(full_med_label, full_counter)\n",
    "    \n",
    "    return rdm, clr, ful"
   ]
  },
  {
   "cell_type": "markdown",
   "id": "51e53ff5-9e01-4c98-b137-e10fba894fb1",
   "metadata": {},
   "source": [
    "#### random selection"
   ]
  },
  {
   "cell_type": "code",
   "execution_count": null,
   "id": "99251380-bdcb-4539-ba42-31a2e3d082e8",
   "metadata": {},
   "outputs": [],
   "source": [
    "import pandas as pd\n",
    "import matplotlib.pyplot as plt\n",
    "import numpy as np\n",
    "from sklearn.metrics import davies_bouldin_score, normalized_mutual_info_score, silhouette_score\n",
    "from sklearn.decomposition import PCA\n",
    "import numpy as np\n",
    "from sklearn.feature_extraction.text import TfidfVectorizer\n",
    "from sklearn.cluster import KMeans\n",
    "from sklearn.decomposition import PCA\n",
    "from scipy.spatial.distance import euclidean\n",
    "from sentence_transformers import SentenceTransformer"
   ]
  },
  {
   "cell_type": "code",
   "execution_count": null,
   "id": "42783491-8f02-44a8-b606-637299290304",
   "metadata": {},
   "outputs": [],
   "source": [
    "def gen_sent_list(sets, num_samples):\n",
    "    input_text_path = '../../data/weak_data/{}/full_text.txt'.format(sets)\n",
    "    input_label_path = '../../data/weak_data/{}/label.txt'.format(sets)\n",
    "    #model = SentenceTransformer('../../tools/sbert-uncased-finnish-paraphrase')\n",
    "    sent_list = []\n",
    "    with open(input_text_path, 'r') as f:\n",
    "        for line in f.readlines():\n",
    "            sent_list.append(line.strip())\n",
    "        f.close()\n",
    "    #sent_list = list(set(sent_list))\n",
    "    \n",
    "    label_list = []\n",
    "    with open(input_label_path, 'r') as f:\n",
    "        for line in f.readlines():\n",
    "            label_list.append(line.strip())\n",
    "        f.close()\n",
    "    \n",
    "    assert len(label_list) == len(sent_list)\n",
    "    \n",
    "    comb_idx_sent_list = []\n",
    "    for i in range(len(sent_list)):\n",
    "        item = (i, sent_list[i], label_list[i])\n",
    "        comb_idx_sent_list.append(item)\n",
    "    \n",
    "    pos_list =  np.random.choice(list(range(len(comb_idx_sent_list))), num_samples)\n",
    "    \n",
    "    random_select_idx_sent_label = [comb_idx_sent_list[i] for i in pos_list]#np.random.choice(comb_idx_sent_list, num_samples)\n",
    "    \n",
    "    select_idx = [item[0] for item in random_select_idx_sent_label]\n",
    "    \n",
    "    select_sent = [item[1] for item in random_select_idx_sent_label]\n",
    "    \n",
    "    select_label = [item[2] for item in random_select_idx_sent_label]\n",
    "    \n",
    "    df = pd.DataFrame({'index': select_idx, 'sent': select_sent})\n",
    "    df.to_csv('../../data/weak_data/{}/annotation_random_sent.csv'.format(sets), index=False)\n",
    "    \n",
    "    df = pd.DataFrame({'index': select_idx, 'label': select_label})\n",
    "    df.to_csv('../../data/weak_data/{}/annotation_random_label.csv'.format(sets), index=False)\n",
    "    \n",
    "    #selected_label\n",
    "    \n",
    "    \n",
    "    #return random_select_sent"
   ]
  },
  {
   "cell_type": "code",
   "execution_count": null,
   "id": "4cc68e0e-efd7-4342-b10a-11bc6ed8d55b",
   "metadata": {},
   "outputs": [],
   "source": [
    "def label_sum(res):\n",
    "    sum_list = []\n",
    "    for (item1, item2) in zip(res[1:7], res[7:]):\n",
    "        sum_list.append(item1+item2)\n",
    "    return sum_list"
   ]
  },
  {
   "cell_type": "code",
   "execution_count": null,
   "id": "03e5f71d-b8f5-439f-83eb-fd502a4b9396",
   "metadata": {},
   "outputs": [],
   "source": [
    "# Jensen-Shannon divergence --> smaller --> similar"
   ]
  },
  {
   "cell_type": "markdown",
   "id": "837f2174-44ec-45b2-a9f2-649401d7c164",
   "metadata": {},
   "source": [
    "#### KIR"
   ]
  },
  {
   "cell_type": "code",
   "execution_count": null,
   "id": "082747e0-d05a-4535-9a2a-e225ed5d82a4",
   "metadata": {},
   "outputs": [],
   "source": [
    "# KIR, LAH, OPER, RTG, SAD\n",
    "# 225., 200., 198., 162., 200.\n",
    "random = 0\n",
    "cluster = 0\n",
    "for i in range(10):\n",
    "    sets = 'KIR'\n",
    "    num_samples = 225\n",
    "    gen_sent_list(sets, num_samples)\n",
    "    res = gen_random_cluster_full_list(sets)\n",
    "    result_random_full= JS_Div([res[0][0]] + label_sum(res[0]), [res[0][0]] + label_sum(res[2]))\n",
    "    result_cluster_full= JS_Div([res[0][0]] + label_sum(res[1]), [res[0][0]] + label_sum(res[2]))\n",
    "    random += result_random_full\n",
    "    cluster += result_cluster_full\n",
    "if random > cluster:\n",
    "    print('{}: cluster better'.format(sets))\n",
    "    print(random)\n",
    "    print(cluster)"
   ]
  },
  {
   "cell_type": "code",
   "execution_count": null,
   "id": "80bf9478-70d1-4a6a-9182-56432fb83956",
   "metadata": {},
   "outputs": [],
   "source": [
    "# sets = 'KIR'\n",
    "# res = gen_random_cluster_full_list(sets)\n",
    "# result_random_full= JS_Div([res[0][0]] + label_sum(res[0]), [res[0][0]] + label_sum(res[2]))\n",
    "# result_cluster_full= JS_Div([res[0][0]] + label_sum(res[1]), [res[0][0]] + label_sum(res[2]))\n",
    "# if result_random_full > result_cluster_full:\n",
    "#     print('{}: cluster better'.format(sets))\n",
    "#     print(result_random_full)\n",
    "#     print(result_cluster_full)"
   ]
  },
  {
   "cell_type": "markdown",
   "id": "3ece74bf-9368-448b-85bb-904b9bc967e3",
   "metadata": {},
   "source": [
    "#### LAH"
   ]
  },
  {
   "cell_type": "code",
   "execution_count": null,
   "id": "55de5ce2-eca6-43ac-88d3-615d833edc35",
   "metadata": {},
   "outputs": [],
   "source": [
    "# KIR, LAH, OPER, RTG, SAD\n",
    "# 225., 200., 198., 162., 200.\n",
    "random = 0\n",
    "cluster = 0\n",
    "for i in range(10):\n",
    "    sets = 'LAH'\n",
    "    num_samples = 200\n",
    "    gen_sent_list(sets, num_samples)\n",
    "    res = gen_random_cluster_full_list(sets)\n",
    "    result_random_full= JS_Div([res[0][0]] + label_sum(res[0]), [res[0][0]] + label_sum(res[2]))\n",
    "    result_cluster_full= JS_Div([res[0][0]] + label_sum(res[1]), [res[0][0]] + label_sum(res[2]))\n",
    "    random += result_random_full\n",
    "    cluster += result_cluster_full\n",
    "if random > cluster:\n",
    "    print('{}: cluster better'.format(sets))\n",
    "    print(random)\n",
    "    print(cluster)"
   ]
  },
  {
   "cell_type": "code",
   "execution_count": null,
   "id": "9065faa2-c0bb-4006-a1be-eedbcc4ccfa8",
   "metadata": {},
   "outputs": [],
   "source": [
    "# sets = 'LAH'\n",
    "# res = gen_random_cluster_full_list(sets)\n",
    "# result_random_full= JS_Div(res[0] + label_sum(res[0]), res[0] + label_sum(res[2]))\n",
    "# result_cluster_full= JS_Div(res[0] + label_sum(res[1]), res[0] + label_sum(res[2]))\n",
    "# if result_random_full > result_cluster_full:\n",
    "#     print('{}: cluster better'.format(sets))\n",
    "#     print(result_random_full)\n",
    "#     print(result_cluster_full)"
   ]
  },
  {
   "cell_type": "markdown",
   "id": "4a0db64a-e500-48b4-aac5-92d55f81d088",
   "metadata": {},
   "source": [
    "#### OPER"
   ]
  },
  {
   "cell_type": "code",
   "execution_count": null,
   "id": "ab107eab-fa84-49d1-8793-2b66fb8523ca",
   "metadata": {},
   "outputs": [],
   "source": [
    "# KIR, LAH, OPER, RTG, SAD\n",
    "# 225., 200., 198., 162., 200.\n",
    "random = 0\n",
    "cluster = 0\n",
    "for i in range(10):\n",
    "    sets = 'OPER'\n",
    "    num_samples = 198\n",
    "    gen_sent_list(sets, num_samples)\n",
    "    res = gen_random_cluster_full_list(sets)\n",
    "    result_random_full= JS_Div([res[0][0]] + label_sum(res[0]), [res[0][0]] + label_sum(res[2]))\n",
    "    result_cluster_full= JS_Div([res[0][0]] + label_sum(res[1]), [res[0][0]] + label_sum(res[2]))\n",
    "    random += result_random_full\n",
    "    cluster += result_cluster_full\n",
    "if random > cluster:\n",
    "    print('{}: cluster better'.format(sets))\n",
    "    print(random)\n",
    "    print(cluster)"
   ]
  },
  {
   "cell_type": "code",
   "execution_count": null,
   "id": "cb23138d-a627-489b-b911-c88fde5eb7b5",
   "metadata": {},
   "outputs": [],
   "source": [
    "# sets = 'OPER'\n",
    "# res = gen_random_cluster_full_list(sets)\n",
    "# result_random_full= JS_Div(res[0] + label_sum(res[0]), res[0] + label_sum(res[2]))\n",
    "# result_cluster_full= JS_Div(res[0] + label_sum(res[1]), res[0] + label_sum(res[2]))\n",
    "# if result_random_full > result_cluster_full:\n",
    "#     print('{}: cluster better'.format(sets))\n",
    "#     print(result_random_full)\n",
    "#     print(result_cluster_full)"
   ]
  },
  {
   "cell_type": "markdown",
   "id": "3a040c65-60ed-409b-8090-b59a76b0a9cb",
   "metadata": {},
   "source": [
    "#### RTG"
   ]
  },
  {
   "cell_type": "code",
   "execution_count": null,
   "id": "feb579ba-b957-4c7d-afd2-37fa596ddf8a",
   "metadata": {},
   "outputs": [],
   "source": [
    "# KIR, LAH, OPER, RTG, SAD\n",
    "# 225., 200., 198., 162., 200.\n",
    "random = 0\n",
    "cluster = 0\n",
    "for i in range(10):\n",
    "    sets = 'RTG'\n",
    "    num_samples = 162\n",
    "    gen_sent_list(sets, num_samples)\n",
    "    res = gen_random_cluster_full_list(sets)\n",
    "    result_random_full= JS_Div([res[0][0]] + label_sum(res[0]), [res[0][0]] + label_sum(res[2]))\n",
    "    result_cluster_full= JS_Div([res[0][0]] + label_sum(res[1]), [res[0][0]] + label_sum(res[2]))\n",
    "    random += result_random_full\n",
    "    cluster += result_cluster_full\n",
    "if random > cluster:\n",
    "    print('{}: cluster better'.format(sets))\n",
    "    print(random)\n",
    "    print(cluster)"
   ]
  },
  {
   "cell_type": "code",
   "execution_count": null,
   "id": "110fda2d-0f28-4e9b-bcc1-784ad20c526a",
   "metadata": {},
   "outputs": [],
   "source": [
    "# sets = 'RTG'\n",
    "# res = gen_random_cluster_full_list(sets)\n",
    "# result_random_full= JS_Div(res[0] + label_sum(res[0]), res[0] + label_sum(res[2]))\n",
    "# result_cluster_full= JS_Div(res[0] + label_sum(res[1]), res[0] + label_sum(res[2]))\n",
    "# if result_random_full > result_cluster_full:\n",
    "#     print('{}: cluster better'.format(sets))\n",
    "#     print(result_random_full)\n",
    "#     print(result_cluster_full)"
   ]
  },
  {
   "cell_type": "markdown",
   "id": "b9fe16e0-25bf-4d29-b722-1e78f1a9c95b",
   "metadata": {},
   "source": [
    "#### SAD"
   ]
  },
  {
   "cell_type": "code",
   "execution_count": null,
   "id": "edb1a896-7120-4ca8-97c6-fc5b96f151ff",
   "metadata": {},
   "outputs": [],
   "source": [
    "# KIR, LAH, OPER, RTG, SAD\n",
    "# 225., 200., 198., 162., 200.\n",
    "random = 0\n",
    "cluster = 0\n",
    "for i in range(10):\n",
    "    sets = 'SAD'\n",
    "    num_samples = 200\n",
    "    gen_sent_list(sets, num_samples)\n",
    "    res = gen_random_cluster_full_list(sets)\n",
    "    result_random_full= JS_Div([res[0][0]] + label_sum(res[0]), [res[0][0]] + label_sum(res[2]))\n",
    "    result_cluster_full= JS_Div([res[0][0]] + label_sum(res[1]), [res[0][0]] + label_sum(res[2]))\n",
    "    random += result_random_full\n",
    "    cluster += result_cluster_full\n",
    "if random > cluster:\n",
    "    print('{}: cluster better'.format(sets))\n",
    "    print(random)\n",
    "    print(cluster)"
   ]
  },
  {
   "cell_type": "code",
   "execution_count": null,
   "id": "2ef434e8-5039-4a75-b7c8-1ebc9ed18466",
   "metadata": {},
   "outputs": [],
   "source": [
    "# sets = 'SAD'\n",
    "# res = gen_random_cluster_full_list(sets)\n",
    "# result_random_full= JS_Div(label_sum(res[0]), label_sum(res[2]))\n",
    "# result_cluster_full= JS_Div(label_sum(res[1]), label_sum(res[2]))\n",
    "# if result_random_full > result_cluster_full:\n",
    "#     print('{}: cluster better'.format(sets))\n",
    "#     print(result_random_full)\n",
    "#     print(result_cluster_full)"
   ]
  },
  {
   "cell_type": "code",
   "execution_count": null,
   "id": "953a147c-2686-48ab-bf2d-fa4810f50920",
   "metadata": {},
   "outputs": [],
   "source": []
  }
 ],
 "metadata": {
  "kernelspec": {
   "display_name": "Python 3.8 - AzureML",
   "language": "python",
   "name": "python38-azureml"
  },
  "language_info": {
   "codemirror_mode": {
    "name": "ipython",
    "version": 3
   },
   "file_extension": ".py",
   "mimetype": "text/x-python",
   "name": "python",
   "nbconvert_exporter": "python",
   "pygments_lexer": "ipython3",
   "version": "3.8.5"
  }
 },
 "nbformat": 4,
 "nbformat_minor": 5
}
