{
 "cells": [
  {
   "cell_type": "code",
   "execution_count": null,
   "id": "39280eef-35ec-4d57-9091-fbe2e17cbf75",
   "metadata": {},
   "outputs": [],
   "source": [
    "%config Completer.use_jedi = False"
   ]
  },
  {
   "cell_type": "code",
   "execution_count": null,
   "id": "99735a8a-0cbb-4ccd-ba06-47dcfb6f1274",
   "metadata": {},
   "outputs": [],
   "source": [
    "import pandas as pd"
   ]
  },
  {
   "cell_type": "code",
   "execution_count": null,
   "id": "7a9d1995-a549-44f9-bbcc-c6a1ffa59226",
   "metadata": {},
   "outputs": [],
   "source": [
    "def retrieve_data_list(file_path):\n",
    "    data_list = []\n",
    "    with open(file_path, 'r') as f:\n",
    "        for i in f.readlines():\n",
    "            data_list.append(i.strip())\n",
    "        f.close()\n",
    "    return data_list"
   ]
  },
  {
   "cell_type": "code",
   "execution_count": null,
   "id": "4a3ff745-6187-40c7-bf5d-6f438e8e7694",
   "metadata": {},
   "outputs": [],
   "source": [
    "def write_sent2entity(sets):\n",
    "    annotation_path = '../../data/weak_data/{}/annotation.txt'.format(sets)\n",
    "    full_sample_path = '../../data/weak_data/{}/full_text.txt'.format(sets)\n",
    "    label_path = '../../data/weak_data/{}/label.txt'.format(sets)\n",
    "\n",
    "    annotation_list = retrieve_data_list(annotation_path)\n",
    "    full_sample_list = retrieve_data_list(full_sample_path)\n",
    "    label_list = retrieve_data_list(label_path)\n",
    "    # check each line --> same length\n",
    "    for i in range(len(label_list)):\n",
    "        assert len(label_list[i].split()) == len(full_sample_list[i].split())\n",
    "        \n",
    "    annotation_label_list = []\n",
    "    for i in range(len(annotation_list)):\n",
    "        anno_item = annotation_list[i]\n",
    "        if anno_item in full_sample_list:\n",
    "            idx = full_sample_list.index(anno_item)\n",
    "            #print(idx)\n",
    "            cur_label = label_list[idx]\n",
    "            annotation_label_list.append(cur_label)\n",
    "        else:\n",
    "            raise ValueError('annotation not in full_sample file')\n",
    "            \n",
    "    # check each line --> same length\n",
    "    for i in range(len(annotation_list)):\n",
    "        assert len(annotation_list[i].split()) == len(annotation_label_list[i].split())\n",
    "    #annotation_label_list\n",
    "\n",
    "    csv_anno = []\n",
    "    csv_label = []\n",
    "    for i in range(len(annotation_list)):\n",
    "        anno_item = annotation_list[i].split()\n",
    "        label_item = annotation_label_list[i].split()\n",
    "        for j in range(len(anno_item)):\n",
    "            csv_anno.append(anno_item[j])\n",
    "            csv_label.append(label_item[j])\n",
    "        csv_anno.append('')\n",
    "        csv_label.append('')\n",
    "\n",
    "    df = pd.DataFrame({'Entity': csv_anno, 'Label': csv_label})\n",
    "    df.to_csv('../../data/weak_data/{}/Excel_anno.csv'.format(sets), index=False)"
   ]
  },
  {
   "cell_type": "code",
   "execution_count": null,
   "id": "0d9a25ac-6f61-4a12-a740-61d3141cb521",
   "metadata": {},
   "outputs": [],
   "source": [
    "write_sent2entity('KIR')"
   ]
  },
  {
   "cell_type": "code",
   "execution_count": null,
   "id": "3b3f6a77-faa9-4bfd-aa50-e5b55b48d512",
   "metadata": {},
   "outputs": [],
   "source": [
    "write_sent2entity('LAH')"
   ]
  },
  {
   "cell_type": "code",
   "execution_count": null,
   "id": "336e2596-6288-46cd-aa2c-e954c8619a34",
   "metadata": {},
   "outputs": [],
   "source": [
    "write_sent2entity('OPER')"
   ]
  },
  {
   "cell_type": "code",
   "execution_count": null,
   "id": "d82a470f-cc9f-40f4-aaae-a2c1e06d1ace",
   "metadata": {},
   "outputs": [],
   "source": [
    "write_sent2entity('RTG')"
   ]
  },
  {
   "cell_type": "code",
   "execution_count": null,
   "id": "598e358a-0ce6-4311-888b-db705bd40f22",
   "metadata": {},
   "outputs": [],
   "source": [
    "write_sent2entity('SAD')"
   ]
  },
  {
   "cell_type": "code",
   "execution_count": null,
   "id": "434913c6-c923-4b3c-b234-7c5abeeb6547",
   "metadata": {},
   "outputs": [],
   "source": []
  }
 ],
 "metadata": {
  "kernelspec": {
   "display_name": "Python 3.8 - AzureML",
   "language": "python",
   "name": "python38-azureml"
  },
  "language_info": {
   "codemirror_mode": {
    "name": "ipython",
    "version": 3
   },
   "file_extension": ".py",
   "mimetype": "text/x-python",
   "name": "python",
   "nbconvert_exporter": "python",
   "pygments_lexer": "ipython3",
   "version": "3.8.5"
  }
 },
 "nbformat": 4,
 "nbformat_minor": 5
}
