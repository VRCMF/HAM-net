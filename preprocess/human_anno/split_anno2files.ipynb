{
 "cells": [
  {
   "cell_type": "code",
   "execution_count": null,
   "id": "b9983138-ecbb-4ca1-8508-f31ac0880f24",
   "metadata": {},
   "outputs": [],
   "source": [
    "%config Completer.use_jedi = False"
   ]
  },
  {
   "cell_type": "code",
   "execution_count": null,
   "id": "da08d410-9ece-4298-9d2f-4a8125f1d821",
   "metadata": {},
   "outputs": [],
   "source": [
    "import os"
   ]
  },
  {
   "cell_type": "code",
   "execution_count": null,
   "id": "fe3d783e-4ec9-442a-b8ff-865717c8d8c9",
   "metadata": {},
   "outputs": [],
   "source": [
    "sets = 'KIR'"
   ]
  },
  {
   "cell_type": "code",
   "execution_count": null,
   "id": "468c79ee-c9e9-43e9-9f5e-da43bff72286",
   "metadata": {},
   "outputs": [],
   "source": [
    "def split_anno2folder(sets):\n",
    "    anno_file_path = '../../data/processed_data/{}/annotation.txt'.format(sets)\n",
    "    anno_list = []\n",
    "    with open(anno_file_path, 'r') as f:\n",
    "        for i in f.readlines():\n",
    "            anno_list.append(i.strip())\n",
    "\n",
    "    for i in range(len(anno_list)):\n",
    "        human_anno_folder_path = '../../data/processed_data/{}/human_anno'.format(sets)\n",
    "        anno_sent = anno_list[i]\n",
    "        if not os.path.exists(human_anno_folder_path):\n",
    "            os.mkdir(human_anno_folder_path)\n",
    "        write_path = human_anno_folder_path + '/{}_{}.txt'.format(sets, i)\n",
    "        with open(write_path, 'w+') as f:\n",
    "            f.write(anno_sent)\n",
    "            f.close()"
   ]
  },
  {
   "cell_type": "code",
   "execution_count": null,
   "id": "6a9ca566-3c01-4cde-9176-4ad59bae28a1",
   "metadata": {},
   "outputs": [],
   "source": [
    "sets = 'KIR'\n",
    "split_anno2folder(sets)"
   ]
  },
  {
   "cell_type": "code",
   "execution_count": null,
   "id": "9481d357-7d4c-4aa6-bdc4-72446465310f",
   "metadata": {},
   "outputs": [],
   "source": [
    "sets = 'LAH'\n",
    "split_anno2folder(sets)"
   ]
  },
  {
   "cell_type": "code",
   "execution_count": null,
   "id": "53f1a3bf-87dd-497f-9117-2dd74137fb8d",
   "metadata": {},
   "outputs": [],
   "source": [
    "sets = 'OPER'\n",
    "split_anno2folder(sets)"
   ]
  },
  {
   "cell_type": "code",
   "execution_count": null,
   "id": "5972edd4-6ab6-4182-8298-376d489b9491",
   "metadata": {},
   "outputs": [],
   "source": [
    "sets = 'RTG'\n",
    "split_anno2folder(sets)"
   ]
  },
  {
   "cell_type": "code",
   "execution_count": null,
   "id": "ebc4756d-710d-49c9-9b69-2fd2ac6da32f",
   "metadata": {},
   "outputs": [],
   "source": [
    "sets = 'SAD'\n",
    "split_anno2folder(sets)"
   ]
  },
  {
   "cell_type": "code",
   "execution_count": null,
   "id": "3c673ac6-7ded-48aa-b81d-7d97b0d338ab",
   "metadata": {},
   "outputs": [],
   "source": [
    "!zip -r KIR_anno.zip ../../data/processed_data/KIR/human_anno/"
   ]
  },
  {
   "cell_type": "code",
   "execution_count": null,
   "id": "8181e7f5-cd1b-40f9-b7d4-21f912f78418",
   "metadata": {},
   "outputs": [],
   "source": [
    "!zip -r LAH_anno.zip ../../data/processed_data/LAH/human_anno/"
   ]
  },
  {
   "cell_type": "code",
   "execution_count": null,
   "id": "13ba9803-c56a-4913-88ee-3c421969f3e9",
   "metadata": {},
   "outputs": [],
   "source": [
    "!zip -r OPER_anno.zip ../../data/processed_data/OPER/human_anno/"
   ]
  },
  {
   "cell_type": "code",
   "execution_count": null,
   "id": "11cc6819-2fcd-4618-9c11-c9de2e90b270",
   "metadata": {},
   "outputs": [],
   "source": [
    "!zip -r RTG_anno.zip ../../data/processed_data/RTG/human_anno/"
   ]
  },
  {
   "cell_type": "code",
   "execution_count": null,
   "id": "9cee7deb-f75b-4aba-aa30-3636363f1746",
   "metadata": {},
   "outputs": [],
   "source": [
    "!zip -r SAD_anno.zip ../../data/processed_data/SAD/human_anno/"
   ]
  },
  {
   "cell_type": "code",
   "execution_count": null,
   "id": "f63644be-235d-4c3a-ab62-5c6d42f30f1b",
   "metadata": {},
   "outputs": [],
   "source": []
  }
 ],
 "metadata": {
  "kernelspec": {
   "display_name": "Python 3.8 - AzureML",
   "language": "python",
   "name": "python38-azureml"
  },
  "language_info": {
   "codemirror_mode": {
    "name": "ipython",
    "version": 3
   },
   "file_extension": ".py",
   "mimetype": "text/x-python",
   "name": "python",
   "nbconvert_exporter": "python",
   "pygments_lexer": "ipython3",
   "version": "3.8.5"
  }
 },
 "nbformat": 4,
 "nbformat_minor": 5
}
